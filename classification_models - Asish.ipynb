{
 "cells": [
  {
   "cell_type": "code",
   "execution_count": 40,
   "id": "asian-place",
   "metadata": {},
   "outputs": [],
   "source": [
    "# libraries\n",
    "\n",
    "import numpy as np\n",
    "import random\n",
    "import pandas as pd\n",
    "import matplotlib.pyplot as plt\n",
    "import seaborn as sns\n",
    "\n",
    "from sklearn.model_selection import train_test_split\n",
    "from sklearn.preprocessing import StandardScaler\n",
    "\n",
    "from sklearn.linear_model import LogisticRegression\n",
    "\n",
    "from sklearn.tree import DecisionTreeClassifier\n",
    "\n",
    "# import xgboost as xgb\n",
    "#XGBClassifier \n",
    "# error in installation\n",
    "\n",
    "import warnings"
   ]
  },
  {
   "cell_type": "code",
   "execution_count": 2,
   "id": "southeast-enforcement",
   "metadata": {},
   "outputs": [],
   "source": [
    "# set warning off\n",
    "warnings.filterwarnings(\"ignore\")"
   ]
  },
  {
   "cell_type": "markdown",
   "id": "corresponding-raising",
   "metadata": {},
   "source": [
    "Dataset is too large(1522116, 77) for initial phase training. It is unnecessary waste of time and resorces. \n",
    "\n",
    "All features have either 0 or 1. \n",
    "\n"
   ]
  },
  {
   "cell_type": "code",
   "execution_count": 39,
   "id": "minimal-caution",
   "metadata": {},
   "outputs": [
    {
     "data": {
      "text/plain": [
       "(1522116, 77)"
      ]
     },
     "execution_count": 39,
     "metadata": {},
     "output_type": "execute_result"
    }
   ],
   "source": [
    "# normalize the data\n",
    "# x.loc[:, x.columns != 'key'].head()\n",
    "# x['features5'].unique() = array([0,1])\n",
    "# x.shape = (1522116, 77)"
   ]
  },
  {
   "cell_type": "code",
   "execution_count": 3,
   "id": "utility-bracket",
   "metadata": {},
   "outputs": [],
   "source": [
    "# read data\n",
    "def read_data(data_size=1000, split_ratio=0.15):\n",
    "    \n",
    "    n=1522116\n",
    "    skip = sorted(random.sample(range(n),n-data_size))\n",
    "    df = pandas.read_csv(filename, skiprows=skip)\n",
    "    \n",
    "    x=pd.read_csv('./model_data/features.csv',skiprows=skip)\n",
    "    y=pd.read_csv('./model_data/labels.csv',skiprows=skip)\n",
    "    \n",
    "    x_train, x_test, y_train, y_test = train_test_split(x.loc[:, x.columns != 'key'], y.loc[:, x.columns != 'key'], test_size=split_ratio, random_state=1)\n",
    "    \n",
    "    return x_train, x_test, y_train, y_test"
   ]
  },
  {
   "cell_type": "code",
   "execution_count": 5,
   "id": "arbitrary-mother",
   "metadata": {},
   "outputs": [],
   "source": [
    "# mean max min std var"
   ]
  },
  {
   "cell_type": "code",
   "execution_count": 6,
   "id": "weighted-messenger",
   "metadata": {},
   "outputs": [],
   "source": [
    "# histogram"
   ]
  },
  {
   "cell_type": "code",
   "execution_count": 7,
   "id": "macro-highway",
   "metadata": {},
   "outputs": [],
   "source": [
    "# "
   ]
  }
 ],
 "metadata": {
  "kernelspec": {
   "display_name": "Python 3",
   "language": "python",
   "name": "python3"
  },
  "language_info": {
   "codemirror_mode": {
    "name": "ipython",
    "version": 3
   },
   "file_extension": ".py",
   "mimetype": "text/x-python",
   "name": "python",
   "nbconvert_exporter": "python",
   "pygments_lexer": "ipython3",
   "version": "3.8.10"
  }
 },
 "nbformat": 4,
 "nbformat_minor": 5
}
