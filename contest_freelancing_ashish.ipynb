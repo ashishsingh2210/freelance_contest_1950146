{
 "cells": [
  {
   "cell_type": "markdown",
   "id": "legendary-animation",
   "metadata": {},
   "source": [
    " need 3 models generated using existing data (features and labels):\n",
    "- Logistic Regression\n",
    "- Random Forest\n",
    "- XGB or Neural network\n",
    "\n",
    "Requirements:\n",
    "1) Perform data analysis (drop missing features, drop incorrect labels, drop highly correlated features, etc)\n",
    "\n",
    "2) Generate training Python scripts using sklearn for each model that accepts input data, sanitizes data and outputs model + ROC curve + features importance.\n",
    "\n",
    "3) Make script generic enough to work with any feature names and count (defined in external text file).\n",
    "\n",
    "4) Generate Prediction Python script (sklearn) that accepts never seen data (no labels, just features) and uses models above to generate prediction score."
   ]
  },
  {
   "cell_type": "code",
   "execution_count": 3,
   "id": "descending-family",
   "metadata": {},
   "outputs": [],
   "source": [
    "import pandas as pd\n",
    "import numpy as np\n",
    "import matplotlib.pyplot as plt\n",
    "import seaborn as sns\n",
    "\n",
    "# sampling methods for imbalanced data\n",
    "from imblearn.over_sampling import SMOTE\n",
    "from imblearn.under_sampling import RandomUnderSampler\n",
    "\n",
    "# models for training and testing the dataset\n",
    "from sklearn.linear_model import LogisticRegression\n",
    "from sklearn.ensemble import RandomForestClassifier\n",
    "from xgboost import XGBClassifier\n",
    "\n",
    "# spliting the data into train and test dataset\n",
    "from sklearn.model_selection import train_test_split\n",
    "\n",
    "# time model for calculating the time requied for the step\n",
    "import time\n",
    "\n",
    "# for checking the performance of the model\n",
    "from sklearn.metrics import roc_curve,roc_auc_score,classification_report,confusion_matrix\n",
    "import sklearn.metrics as metrics\n",
    "import scikitplot as skplt\n",
    "\n",
    "# ignoring the unwanted warnings\n",
    "import warnings\n",
    "\n",
    "warnings.filterwarnings('ignore')"
   ]
  },
  {
   "cell_type": "markdown",
   "id": "ambient-scratch",
   "metadata": {},
   "source": [
    "** **\n",
    "**load the datasets**"
   ]
  },
  {
   "cell_type": "code",
   "execution_count": 4,
   "id": "nuclear-metabolism",
   "metadata": {},
   "outputs": [],
   "source": [
    "features = pd.read_csv('features.csv')\n",
    "labels = pd.read_csv('labels.csv')"
   ]
  },
  {
   "cell_type": "markdown",
   "id": "bizarre-lithuania",
   "metadata": {},
   "source": [
    "** **\n",
    "**basic steps**\n",
    "    \n",
    "    remove the duplicates\n",
    "    removes nan values\n",
    "    make dataset with same key from features and label\n",
    "    \n",
    "**output of the function**\n",
    "    \n",
    "    unseen dataset from the given dataset\n",
    "    preprocesed dataset"
   ]
  },
  {
   "cell_type": "code",
   "execution_count": 5,
   "id": "first-portable",
   "metadata": {},
   "outputs": [],
   "source": [
    "def basic_steps(features_dataset,labels_dataset):\n",
    "    labels.sort_values(by = ['key'], ignore_index=True, inplace=True)\n",
    "    features.sort_values(by = ['key'],ignore_index=True,inplace=True)\n",
    "    \n",
    "# droping the duplicates and getting key\n",
    "    f_key = features.drop_duplicates().key\n",
    "    l_key = labels.key\n",
    "\n",
    "# sorting variables\n",
    "    f_key = sorted(f_key)\n",
    "    l_key = sorted(l_key)\n",
    "    \n",
    "# droping the duplicates and the nan values\n",
    "    features.dropna(inplace=True)\n",
    "    features.drop_duplicates(inplace=True,ignore_index=True)\n",
    "    \n",
    "# getting dataset with the keys in labels and removing the extra keys\n",
    "    features_labels = features[features.key.isin(l_key)]\n",
    "    features_labels = pd.concat([features,labels.label],axis='columns')\n",
    "    \n",
    "\n",
    "# since the data is imbalanced in the for keys and label and \n",
    "# after concating the both of the data we need to remove the NaN values from the label \n",
    "    features_labels_not_nan = features_labels.dropna()\n",
    "    features_labels_unseen = features_labels[features_labels.label.isna() == True]\n",
    "    \n",
    "# getting two values because we have the Nan in label which will act as unseen data\n",
    "    return features_labels_unseen,features_labels_not_nan,features_labels\n"
   ]
  },
  {
   "cell_type": "code",
   "execution_count": 6,
   "id": "quick-continuity",
   "metadata": {},
   "outputs": [],
   "source": [
    "unseen_data,features_labels,raw_features = basic_steps(features,labels)"
   ]
  },
  {
   "cell_type": "code",
   "execution_count": 7,
   "id": "caroline-aberdeen",
   "metadata": {},
   "outputs": [
    {
     "name": "stdout",
     "output_type": "stream",
     "text": [
      "(651441, 78)\n"
     ]
    },
    {
     "data": {
      "text/plain": [
       "1.0    589222\n",
       "0.0     62219\n",
       "Name: label, dtype: int64"
      ]
     },
     "execution_count": 7,
     "metadata": {},
     "output_type": "execute_result"
    }
   ],
   "source": [
    "print(features_labels.shape)\n",
    "features_labels.label.value_counts()"
   ]
  },
  {
   "cell_type": "code",
   "execution_count": 8,
   "id": "instrumental-science",
   "metadata": {
    "collapsed": true
   },
   "outputs": [
    {
     "data": {
      "text/html": [
       "<div>\n",
       "<style scoped>\n",
       "    .dataframe tbody tr th:only-of-type {\n",
       "        vertical-align: middle;\n",
       "    }\n",
       "\n",
       "    .dataframe tbody tr th {\n",
       "        vertical-align: top;\n",
       "    }\n",
       "\n",
       "    .dataframe thead th {\n",
       "        text-align: right;\n",
       "    }\n",
       "</style>\n",
       "<table border=\"1\" class=\"dataframe\">\n",
       "  <thead>\n",
       "    <tr style=\"text-align: right;\">\n",
       "      <th></th>\n",
       "      <th>key</th>\n",
       "      <th>feature1</th>\n",
       "      <th>feature2</th>\n",
       "      <th>feature3</th>\n",
       "      <th>feature4</th>\n",
       "      <th>feature5</th>\n",
       "      <th>feature6</th>\n",
       "      <th>feature7</th>\n",
       "      <th>feature8</th>\n",
       "      <th>feature9</th>\n",
       "      <th>...</th>\n",
       "      <th>feature68</th>\n",
       "      <th>feature69</th>\n",
       "      <th>feature70</th>\n",
       "      <th>feature71</th>\n",
       "      <th>feature72</th>\n",
       "      <th>feature73</th>\n",
       "      <th>feature74</th>\n",
       "      <th>feature75</th>\n",
       "      <th>feature76</th>\n",
       "      <th>label</th>\n",
       "    </tr>\n",
       "  </thead>\n",
       "  <tbody>\n",
       "    <tr>\n",
       "      <th>0</th>\n",
       "      <td>000000d77fdee024f61e5941861e02838d2214800ec8e9...</td>\n",
       "      <td>1</td>\n",
       "      <td>1</td>\n",
       "      <td>0</td>\n",
       "      <td>1</td>\n",
       "      <td>0</td>\n",
       "      <td>1</td>\n",
       "      <td>1</td>\n",
       "      <td>1</td>\n",
       "      <td>1</td>\n",
       "      <td>...</td>\n",
       "      <td>1</td>\n",
       "      <td>1</td>\n",
       "      <td>1</td>\n",
       "      <td>0</td>\n",
       "      <td>0</td>\n",
       "      <td>0</td>\n",
       "      <td>1</td>\n",
       "      <td>1</td>\n",
       "      <td>0</td>\n",
       "      <td>1.0</td>\n",
       "    </tr>\n",
       "    <tr>\n",
       "      <th>1</th>\n",
       "      <td>0000137f327e090be14f03c3eb25520bc011d21ad3fdd9...</td>\n",
       "      <td>1</td>\n",
       "      <td>1</td>\n",
       "      <td>0</td>\n",
       "      <td>1</td>\n",
       "      <td>0</td>\n",
       "      <td>0</td>\n",
       "      <td>1</td>\n",
       "      <td>1</td>\n",
       "      <td>1</td>\n",
       "      <td>...</td>\n",
       "      <td>0</td>\n",
       "      <td>1</td>\n",
       "      <td>1</td>\n",
       "      <td>0</td>\n",
       "      <td>0</td>\n",
       "      <td>1</td>\n",
       "      <td>1</td>\n",
       "      <td>1</td>\n",
       "      <td>0</td>\n",
       "      <td>1.0</td>\n",
       "    </tr>\n",
       "    <tr>\n",
       "      <th>2</th>\n",
       "      <td>00001c11084d7df1854a14a30340b774ab3e5b1fab31fe...</td>\n",
       "      <td>0</td>\n",
       "      <td>1</td>\n",
       "      <td>1</td>\n",
       "      <td>1</td>\n",
       "      <td>0</td>\n",
       "      <td>0</td>\n",
       "      <td>1</td>\n",
       "      <td>0</td>\n",
       "      <td>1</td>\n",
       "      <td>...</td>\n",
       "      <td>1</td>\n",
       "      <td>1</td>\n",
       "      <td>0</td>\n",
       "      <td>1</td>\n",
       "      <td>0</td>\n",
       "      <td>1</td>\n",
       "      <td>0</td>\n",
       "      <td>0</td>\n",
       "      <td>0</td>\n",
       "      <td>1.0</td>\n",
       "    </tr>\n",
       "    <tr>\n",
       "      <th>3</th>\n",
       "      <td>00001dbb91730b3ee0759202dec4905ad4152dcf303f3f...</td>\n",
       "      <td>0</td>\n",
       "      <td>1</td>\n",
       "      <td>0</td>\n",
       "      <td>1</td>\n",
       "      <td>0</td>\n",
       "      <td>1</td>\n",
       "      <td>1</td>\n",
       "      <td>1</td>\n",
       "      <td>1</td>\n",
       "      <td>...</td>\n",
       "      <td>0</td>\n",
       "      <td>1</td>\n",
       "      <td>1</td>\n",
       "      <td>0</td>\n",
       "      <td>0</td>\n",
       "      <td>0</td>\n",
       "      <td>0</td>\n",
       "      <td>1</td>\n",
       "      <td>0</td>\n",
       "      <td>1.0</td>\n",
       "    </tr>\n",
       "    <tr>\n",
       "      <th>4</th>\n",
       "      <td>00003084e2dac1a9b681bf1a744bc080b2a619e52471ee...</td>\n",
       "      <td>0</td>\n",
       "      <td>0</td>\n",
       "      <td>0</td>\n",
       "      <td>0</td>\n",
       "      <td>0</td>\n",
       "      <td>0</td>\n",
       "      <td>0</td>\n",
       "      <td>0</td>\n",
       "      <td>0</td>\n",
       "      <td>...</td>\n",
       "      <td>0</td>\n",
       "      <td>0</td>\n",
       "      <td>0</td>\n",
       "      <td>0</td>\n",
       "      <td>0</td>\n",
       "      <td>0</td>\n",
       "      <td>0</td>\n",
       "      <td>0</td>\n",
       "      <td>0</td>\n",
       "      <td>1.0</td>\n",
       "    </tr>\n",
       "    <tr>\n",
       "      <th>5</th>\n",
       "      <td>00004d0edbe109811a27af46547d96ea87532ab43ebaa6...</td>\n",
       "      <td>0</td>\n",
       "      <td>1</td>\n",
       "      <td>0</td>\n",
       "      <td>1</td>\n",
       "      <td>0</td>\n",
       "      <td>1</td>\n",
       "      <td>0</td>\n",
       "      <td>1</td>\n",
       "      <td>0</td>\n",
       "      <td>...</td>\n",
       "      <td>1</td>\n",
       "      <td>1</td>\n",
       "      <td>0</td>\n",
       "      <td>0</td>\n",
       "      <td>0</td>\n",
       "      <td>0</td>\n",
       "      <td>0</td>\n",
       "      <td>1</td>\n",
       "      <td>0</td>\n",
       "      <td>0.0</td>\n",
       "    </tr>\n",
       "    <tr>\n",
       "      <th>6</th>\n",
       "      <td>00005c15a38a931f09916ae861c8f179d1ea798459f648...</td>\n",
       "      <td>1</td>\n",
       "      <td>1</td>\n",
       "      <td>0</td>\n",
       "      <td>1</td>\n",
       "      <td>0</td>\n",
       "      <td>1</td>\n",
       "      <td>1</td>\n",
       "      <td>1</td>\n",
       "      <td>1</td>\n",
       "      <td>...</td>\n",
       "      <td>0</td>\n",
       "      <td>1</td>\n",
       "      <td>0</td>\n",
       "      <td>0</td>\n",
       "      <td>0</td>\n",
       "      <td>1</td>\n",
       "      <td>1</td>\n",
       "      <td>1</td>\n",
       "      <td>0</td>\n",
       "      <td>1.0</td>\n",
       "    </tr>\n",
       "    <tr>\n",
       "      <th>7</th>\n",
       "      <td>000067e9f9f63bb540b3abe2c2915714cb1a7a881d92f6...</td>\n",
       "      <td>0</td>\n",
       "      <td>1</td>\n",
       "      <td>1</td>\n",
       "      <td>0</td>\n",
       "      <td>0</td>\n",
       "      <td>1</td>\n",
       "      <td>0</td>\n",
       "      <td>1</td>\n",
       "      <td>1</td>\n",
       "      <td>...</td>\n",
       "      <td>1</td>\n",
       "      <td>1</td>\n",
       "      <td>0</td>\n",
       "      <td>0</td>\n",
       "      <td>1</td>\n",
       "      <td>0</td>\n",
       "      <td>0</td>\n",
       "      <td>0</td>\n",
       "      <td>0</td>\n",
       "      <td>1.0</td>\n",
       "    </tr>\n",
       "    <tr>\n",
       "      <th>8</th>\n",
       "      <td>00006e4b1ac23a70fb8edf67ed43b47237f7d983b891ef...</td>\n",
       "      <td>0</td>\n",
       "      <td>0</td>\n",
       "      <td>0</td>\n",
       "      <td>0</td>\n",
       "      <td>0</td>\n",
       "      <td>0</td>\n",
       "      <td>0</td>\n",
       "      <td>0</td>\n",
       "      <td>0</td>\n",
       "      <td>...</td>\n",
       "      <td>0</td>\n",
       "      <td>0</td>\n",
       "      <td>0</td>\n",
       "      <td>0</td>\n",
       "      <td>0</td>\n",
       "      <td>0</td>\n",
       "      <td>0</td>\n",
       "      <td>0</td>\n",
       "      <td>0</td>\n",
       "      <td>1.0</td>\n",
       "    </tr>\n",
       "    <tr>\n",
       "      <th>9</th>\n",
       "      <td>00008b41f266be76be0ffd6a93bab16a9a685e47e5ca7d...</td>\n",
       "      <td>0</td>\n",
       "      <td>1</td>\n",
       "      <td>1</td>\n",
       "      <td>1</td>\n",
       "      <td>0</td>\n",
       "      <td>1</td>\n",
       "      <td>1</td>\n",
       "      <td>0</td>\n",
       "      <td>1</td>\n",
       "      <td>...</td>\n",
       "      <td>1</td>\n",
       "      <td>1</td>\n",
       "      <td>1</td>\n",
       "      <td>1</td>\n",
       "      <td>0</td>\n",
       "      <td>1</td>\n",
       "      <td>1</td>\n",
       "      <td>1</td>\n",
       "      <td>0</td>\n",
       "      <td>1.0</td>\n",
       "    </tr>\n",
       "  </tbody>\n",
       "</table>\n",
       "<p>10 rows × 78 columns</p>\n",
       "</div>"
      ],
      "text/plain": [
       "                                                 key  feature1  feature2  \\\n",
       "0  000000d77fdee024f61e5941861e02838d2214800ec8e9...         1         1   \n",
       "1  0000137f327e090be14f03c3eb25520bc011d21ad3fdd9...         1         1   \n",
       "2  00001c11084d7df1854a14a30340b774ab3e5b1fab31fe...         0         1   \n",
       "3  00001dbb91730b3ee0759202dec4905ad4152dcf303f3f...         0         1   \n",
       "4  00003084e2dac1a9b681bf1a744bc080b2a619e52471ee...         0         0   \n",
       "5  00004d0edbe109811a27af46547d96ea87532ab43ebaa6...         0         1   \n",
       "6  00005c15a38a931f09916ae861c8f179d1ea798459f648...         1         1   \n",
       "7  000067e9f9f63bb540b3abe2c2915714cb1a7a881d92f6...         0         1   \n",
       "8  00006e4b1ac23a70fb8edf67ed43b47237f7d983b891ef...         0         0   \n",
       "9  00008b41f266be76be0ffd6a93bab16a9a685e47e5ca7d...         0         1   \n",
       "\n",
       "   feature3  feature4  feature5  feature6  feature7  feature8  feature9  ...  \\\n",
       "0         0         1         0         1         1         1         1  ...   \n",
       "1         0         1         0         0         1         1         1  ...   \n",
       "2         1         1         0         0         1         0         1  ...   \n",
       "3         0         1         0         1         1         1         1  ...   \n",
       "4         0         0         0         0         0         0         0  ...   \n",
       "5         0         1         0         1         0         1         0  ...   \n",
       "6         0         1         0         1         1         1         1  ...   \n",
       "7         1         0         0         1         0         1         1  ...   \n",
       "8         0         0         0         0         0         0         0  ...   \n",
       "9         1         1         0         1         1         0         1  ...   \n",
       "\n",
       "   feature68  feature69  feature70  feature71  feature72  feature73  \\\n",
       "0          1          1          1          0          0          0   \n",
       "1          0          1          1          0          0          1   \n",
       "2          1          1          0          1          0          1   \n",
       "3          0          1          1          0          0          0   \n",
       "4          0          0          0          0          0          0   \n",
       "5          1          1          0          0          0          0   \n",
       "6          0          1          0          0          0          1   \n",
       "7          1          1          0          0          1          0   \n",
       "8          0          0          0          0          0          0   \n",
       "9          1          1          1          1          0          1   \n",
       "\n",
       "   feature74  feature75  feature76  label  \n",
       "0          1          1          0    1.0  \n",
       "1          1          1          0    1.0  \n",
       "2          0          0          0    1.0  \n",
       "3          0          1          0    1.0  \n",
       "4          0          0          0    1.0  \n",
       "5          0          1          0    0.0  \n",
       "6          1          1          0    1.0  \n",
       "7          0          0          0    1.0  \n",
       "8          0          0          0    1.0  \n",
       "9          1          1          0    1.0  \n",
       "\n",
       "[10 rows x 78 columns]"
      ]
     },
     "execution_count": 8,
     "metadata": {},
     "output_type": "execute_result"
    }
   ],
   "source": [
    "features_labels.head(10)"
   ]
  },
  {
   "cell_type": "code",
   "execution_count": 9,
   "id": "recognized-patrol",
   "metadata": {
    "collapsed": true
   },
   "outputs": [
    {
     "data": {
      "text/html": [
       "<div>\n",
       "<style scoped>\n",
       "    .dataframe tbody tr th:only-of-type {\n",
       "        vertical-align: middle;\n",
       "    }\n",
       "\n",
       "    .dataframe tbody tr th {\n",
       "        vertical-align: top;\n",
       "    }\n",
       "\n",
       "    .dataframe thead th {\n",
       "        text-align: right;\n",
       "    }\n",
       "</style>\n",
       "<table border=\"1\" class=\"dataframe\">\n",
       "  <thead>\n",
       "    <tr style=\"text-align: right;\">\n",
       "      <th></th>\n",
       "      <th>key</th>\n",
       "      <th>feature1</th>\n",
       "      <th>feature2</th>\n",
       "      <th>feature3</th>\n",
       "      <th>feature4</th>\n",
       "      <th>feature5</th>\n",
       "      <th>feature6</th>\n",
       "      <th>feature7</th>\n",
       "      <th>feature8</th>\n",
       "      <th>feature9</th>\n",
       "      <th>...</th>\n",
       "      <th>feature67</th>\n",
       "      <th>feature68</th>\n",
       "      <th>feature69</th>\n",
       "      <th>feature70</th>\n",
       "      <th>feature71</th>\n",
       "      <th>feature72</th>\n",
       "      <th>feature73</th>\n",
       "      <th>feature74</th>\n",
       "      <th>feature75</th>\n",
       "      <th>feature76</th>\n",
       "    </tr>\n",
       "  </thead>\n",
       "  <tbody>\n",
       "    <tr>\n",
       "      <th>0</th>\n",
       "      <td>000000d77fdee024f61e5941861e02838d2214800ec8e9...</td>\n",
       "      <td>1</td>\n",
       "      <td>1</td>\n",
       "      <td>0</td>\n",
       "      <td>1</td>\n",
       "      <td>0</td>\n",
       "      <td>1</td>\n",
       "      <td>1</td>\n",
       "      <td>1</td>\n",
       "      <td>1</td>\n",
       "      <td>...</td>\n",
       "      <td>1</td>\n",
       "      <td>1</td>\n",
       "      <td>1</td>\n",
       "      <td>1</td>\n",
       "      <td>0</td>\n",
       "      <td>0</td>\n",
       "      <td>0</td>\n",
       "      <td>1</td>\n",
       "      <td>1</td>\n",
       "      <td>0</td>\n",
       "    </tr>\n",
       "    <tr>\n",
       "      <th>1</th>\n",
       "      <td>0000137f327e090be14f03c3eb25520bc011d21ad3fdd9...</td>\n",
       "      <td>1</td>\n",
       "      <td>1</td>\n",
       "      <td>0</td>\n",
       "      <td>1</td>\n",
       "      <td>0</td>\n",
       "      <td>0</td>\n",
       "      <td>1</td>\n",
       "      <td>1</td>\n",
       "      <td>1</td>\n",
       "      <td>...</td>\n",
       "      <td>0</td>\n",
       "      <td>0</td>\n",
       "      <td>1</td>\n",
       "      <td>1</td>\n",
       "      <td>0</td>\n",
       "      <td>0</td>\n",
       "      <td>1</td>\n",
       "      <td>1</td>\n",
       "      <td>1</td>\n",
       "      <td>0</td>\n",
       "    </tr>\n",
       "    <tr>\n",
       "      <th>2</th>\n",
       "      <td>00001c11084d7df1854a14a30340b774ab3e5b1fab31fe...</td>\n",
       "      <td>0</td>\n",
       "      <td>1</td>\n",
       "      <td>1</td>\n",
       "      <td>1</td>\n",
       "      <td>0</td>\n",
       "      <td>0</td>\n",
       "      <td>1</td>\n",
       "      <td>0</td>\n",
       "      <td>1</td>\n",
       "      <td>...</td>\n",
       "      <td>1</td>\n",
       "      <td>1</td>\n",
       "      <td>1</td>\n",
       "      <td>0</td>\n",
       "      <td>1</td>\n",
       "      <td>0</td>\n",
       "      <td>1</td>\n",
       "      <td>0</td>\n",
       "      <td>0</td>\n",
       "      <td>0</td>\n",
       "    </tr>\n",
       "    <tr>\n",
       "      <th>3</th>\n",
       "      <td>00001dbb91730b3ee0759202dec4905ad4152dcf303f3f...</td>\n",
       "      <td>0</td>\n",
       "      <td>1</td>\n",
       "      <td>0</td>\n",
       "      <td>1</td>\n",
       "      <td>0</td>\n",
       "      <td>1</td>\n",
       "      <td>1</td>\n",
       "      <td>1</td>\n",
       "      <td>1</td>\n",
       "      <td>...</td>\n",
       "      <td>0</td>\n",
       "      <td>0</td>\n",
       "      <td>1</td>\n",
       "      <td>1</td>\n",
       "      <td>0</td>\n",
       "      <td>0</td>\n",
       "      <td>0</td>\n",
       "      <td>0</td>\n",
       "      <td>1</td>\n",
       "      <td>0</td>\n",
       "    </tr>\n",
       "    <tr>\n",
       "      <th>4</th>\n",
       "      <td>00003084e2dac1a9b681bf1a744bc080b2a619e52471ee...</td>\n",
       "      <td>0</td>\n",
       "      <td>0</td>\n",
       "      <td>0</td>\n",
       "      <td>0</td>\n",
       "      <td>0</td>\n",
       "      <td>0</td>\n",
       "      <td>0</td>\n",
       "      <td>0</td>\n",
       "      <td>0</td>\n",
       "      <td>...</td>\n",
       "      <td>0</td>\n",
       "      <td>0</td>\n",
       "      <td>0</td>\n",
       "      <td>0</td>\n",
       "      <td>0</td>\n",
       "      <td>0</td>\n",
       "      <td>0</td>\n",
       "      <td>0</td>\n",
       "      <td>0</td>\n",
       "      <td>0</td>\n",
       "    </tr>\n",
       "    <tr>\n",
       "      <th>5</th>\n",
       "      <td>00004d0edbe109811a27af46547d96ea87532ab43ebaa6...</td>\n",
       "      <td>0</td>\n",
       "      <td>1</td>\n",
       "      <td>0</td>\n",
       "      <td>1</td>\n",
       "      <td>0</td>\n",
       "      <td>1</td>\n",
       "      <td>0</td>\n",
       "      <td>1</td>\n",
       "      <td>0</td>\n",
       "      <td>...</td>\n",
       "      <td>1</td>\n",
       "      <td>1</td>\n",
       "      <td>1</td>\n",
       "      <td>0</td>\n",
       "      <td>0</td>\n",
       "      <td>0</td>\n",
       "      <td>0</td>\n",
       "      <td>0</td>\n",
       "      <td>1</td>\n",
       "      <td>0</td>\n",
       "    </tr>\n",
       "    <tr>\n",
       "      <th>6</th>\n",
       "      <td>00005c15a38a931f09916ae861c8f179d1ea798459f648...</td>\n",
       "      <td>1</td>\n",
       "      <td>1</td>\n",
       "      <td>0</td>\n",
       "      <td>1</td>\n",
       "      <td>0</td>\n",
       "      <td>1</td>\n",
       "      <td>1</td>\n",
       "      <td>1</td>\n",
       "      <td>1</td>\n",
       "      <td>...</td>\n",
       "      <td>0</td>\n",
       "      <td>0</td>\n",
       "      <td>1</td>\n",
       "      <td>0</td>\n",
       "      <td>0</td>\n",
       "      <td>0</td>\n",
       "      <td>1</td>\n",
       "      <td>1</td>\n",
       "      <td>1</td>\n",
       "      <td>0</td>\n",
       "    </tr>\n",
       "    <tr>\n",
       "      <th>7</th>\n",
       "      <td>000067e9f9f63bb540b3abe2c2915714cb1a7a881d92f6...</td>\n",
       "      <td>0</td>\n",
       "      <td>1</td>\n",
       "      <td>1</td>\n",
       "      <td>0</td>\n",
       "      <td>0</td>\n",
       "      <td>1</td>\n",
       "      <td>0</td>\n",
       "      <td>1</td>\n",
       "      <td>1</td>\n",
       "      <td>...</td>\n",
       "      <td>1</td>\n",
       "      <td>1</td>\n",
       "      <td>1</td>\n",
       "      <td>0</td>\n",
       "      <td>0</td>\n",
       "      <td>1</td>\n",
       "      <td>0</td>\n",
       "      <td>0</td>\n",
       "      <td>0</td>\n",
       "      <td>0</td>\n",
       "    </tr>\n",
       "    <tr>\n",
       "      <th>8</th>\n",
       "      <td>00006e4b1ac23a70fb8edf67ed43b47237f7d983b891ef...</td>\n",
       "      <td>0</td>\n",
       "      <td>0</td>\n",
       "      <td>0</td>\n",
       "      <td>0</td>\n",
       "      <td>0</td>\n",
       "      <td>0</td>\n",
       "      <td>0</td>\n",
       "      <td>0</td>\n",
       "      <td>0</td>\n",
       "      <td>...</td>\n",
       "      <td>0</td>\n",
       "      <td>0</td>\n",
       "      <td>0</td>\n",
       "      <td>0</td>\n",
       "      <td>0</td>\n",
       "      <td>0</td>\n",
       "      <td>0</td>\n",
       "      <td>0</td>\n",
       "      <td>0</td>\n",
       "      <td>0</td>\n",
       "    </tr>\n",
       "    <tr>\n",
       "      <th>9</th>\n",
       "      <td>00008b41f266be76be0ffd6a93bab16a9a685e47e5ca7d...</td>\n",
       "      <td>0</td>\n",
       "      <td>1</td>\n",
       "      <td>1</td>\n",
       "      <td>1</td>\n",
       "      <td>0</td>\n",
       "      <td>1</td>\n",
       "      <td>1</td>\n",
       "      <td>0</td>\n",
       "      <td>1</td>\n",
       "      <td>...</td>\n",
       "      <td>1</td>\n",
       "      <td>1</td>\n",
       "      <td>1</td>\n",
       "      <td>1</td>\n",
       "      <td>1</td>\n",
       "      <td>0</td>\n",
       "      <td>1</td>\n",
       "      <td>1</td>\n",
       "      <td>1</td>\n",
       "      <td>0</td>\n",
       "    </tr>\n",
       "  </tbody>\n",
       "</table>\n",
       "<p>10 rows × 77 columns</p>\n",
       "</div>"
      ],
      "text/plain": [
       "                                                 key  feature1  feature2  \\\n",
       "0  000000d77fdee024f61e5941861e02838d2214800ec8e9...         1         1   \n",
       "1  0000137f327e090be14f03c3eb25520bc011d21ad3fdd9...         1         1   \n",
       "2  00001c11084d7df1854a14a30340b774ab3e5b1fab31fe...         0         1   \n",
       "3  00001dbb91730b3ee0759202dec4905ad4152dcf303f3f...         0         1   \n",
       "4  00003084e2dac1a9b681bf1a744bc080b2a619e52471ee...         0         0   \n",
       "5  00004d0edbe109811a27af46547d96ea87532ab43ebaa6...         0         1   \n",
       "6  00005c15a38a931f09916ae861c8f179d1ea798459f648...         1         1   \n",
       "7  000067e9f9f63bb540b3abe2c2915714cb1a7a881d92f6...         0         1   \n",
       "8  00006e4b1ac23a70fb8edf67ed43b47237f7d983b891ef...         0         0   \n",
       "9  00008b41f266be76be0ffd6a93bab16a9a685e47e5ca7d...         0         1   \n",
       "\n",
       "   feature3  feature4  feature5  feature6  feature7  feature8  feature9  ...  \\\n",
       "0         0         1         0         1         1         1         1  ...   \n",
       "1         0         1         0         0         1         1         1  ...   \n",
       "2         1         1         0         0         1         0         1  ...   \n",
       "3         0         1         0         1         1         1         1  ...   \n",
       "4         0         0         0         0         0         0         0  ...   \n",
       "5         0         1         0         1         0         1         0  ...   \n",
       "6         0         1         0         1         1         1         1  ...   \n",
       "7         1         0         0         1         0         1         1  ...   \n",
       "8         0         0         0         0         0         0         0  ...   \n",
       "9         1         1         0         1         1         0         1  ...   \n",
       "\n",
       "   feature67  feature68  feature69  feature70  feature71  feature72  \\\n",
       "0          1          1          1          1          0          0   \n",
       "1          0          0          1          1          0          0   \n",
       "2          1          1          1          0          1          0   \n",
       "3          0          0          1          1          0          0   \n",
       "4          0          0          0          0          0          0   \n",
       "5          1          1          1          0          0          0   \n",
       "6          0          0          1          0          0          0   \n",
       "7          1          1          1          0          0          1   \n",
       "8          0          0          0          0          0          0   \n",
       "9          1          1          1          1          1          0   \n",
       "\n",
       "   feature73  feature74  feature75  feature76  \n",
       "0          0          1          1          0  \n",
       "1          1          1          1          0  \n",
       "2          1          0          0          0  \n",
       "3          0          0          1          0  \n",
       "4          0          0          0          0  \n",
       "5          0          0          1          0  \n",
       "6          1          1          1          0  \n",
       "7          0          0          0          0  \n",
       "8          0          0          0          0  \n",
       "9          1          1          1          0  \n",
       "\n",
       "[10 rows x 77 columns]"
      ]
     },
     "execution_count": 9,
     "metadata": {},
     "output_type": "execute_result"
    }
   ],
   "source": [
    "features.head(10)"
   ]
  },
  {
   "cell_type": "code",
   "execution_count": 10,
   "id": "floppy-crest",
   "metadata": {
    "collapsed": true
   },
   "outputs": [
    {
     "data": {
      "text/plain": [
       "0    1\n",
       "1    1\n",
       "2    1\n",
       "3    1\n",
       "4    1\n",
       "5    0\n",
       "6    1\n",
       "7    1\n",
       "8    1\n",
       "9    1\n",
       "Name: label, dtype: int64"
      ]
     },
     "execution_count": 10,
     "metadata": {},
     "output_type": "execute_result"
    }
   ],
   "source": [
    "labels.label.head(10)"
   ]
  },
  {
   "cell_type": "code",
   "execution_count": 11,
   "id": "spiritual-mailman",
   "metadata": {},
   "outputs": [
    {
     "name": "stdout",
     "output_type": "stream",
     "text": [
      "(348012, 78)\n"
     ]
    },
    {
     "data": {
      "text/html": [
       "<div>\n",
       "<style scoped>\n",
       "    .dataframe tbody tr th:only-of-type {\n",
       "        vertical-align: middle;\n",
       "    }\n",
       "\n",
       "    .dataframe tbody tr th {\n",
       "        vertical-align: top;\n",
       "    }\n",
       "\n",
       "    .dataframe thead th {\n",
       "        text-align: right;\n",
       "    }\n",
       "</style>\n",
       "<table border=\"1\" class=\"dataframe\">\n",
       "  <thead>\n",
       "    <tr style=\"text-align: right;\">\n",
       "      <th></th>\n",
       "      <th>key</th>\n",
       "      <th>feature1</th>\n",
       "      <th>feature2</th>\n",
       "      <th>feature3</th>\n",
       "      <th>feature4</th>\n",
       "      <th>feature5</th>\n",
       "      <th>feature6</th>\n",
       "      <th>feature7</th>\n",
       "      <th>feature8</th>\n",
       "      <th>feature9</th>\n",
       "      <th>...</th>\n",
       "      <th>feature68</th>\n",
       "      <th>feature69</th>\n",
       "      <th>feature70</th>\n",
       "      <th>feature71</th>\n",
       "      <th>feature72</th>\n",
       "      <th>feature73</th>\n",
       "      <th>feature74</th>\n",
       "      <th>feature75</th>\n",
       "      <th>feature76</th>\n",
       "      <th>label</th>\n",
       "    </tr>\n",
       "  </thead>\n",
       "  <tbody>\n",
       "    <tr>\n",
       "      <th>651441</th>\n",
       "      <td>a6de195bf6901ed5216b83f8c411c959feabcdf586242a...</td>\n",
       "      <td>1</td>\n",
       "      <td>1</td>\n",
       "      <td>0</td>\n",
       "      <td>1</td>\n",
       "      <td>0</td>\n",
       "      <td>1</td>\n",
       "      <td>1</td>\n",
       "      <td>1</td>\n",
       "      <td>1</td>\n",
       "      <td>...</td>\n",
       "      <td>1</td>\n",
       "      <td>1</td>\n",
       "      <td>1</td>\n",
       "      <td>0</td>\n",
       "      <td>0</td>\n",
       "      <td>1</td>\n",
       "      <td>1</td>\n",
       "      <td>1</td>\n",
       "      <td>0</td>\n",
       "      <td>NaN</td>\n",
       "    </tr>\n",
       "    <tr>\n",
       "      <th>651442</th>\n",
       "      <td>a6de1c83c47983f8d9c6f02a6ed6677f025e9524cd5839...</td>\n",
       "      <td>1</td>\n",
       "      <td>1</td>\n",
       "      <td>1</td>\n",
       "      <td>1</td>\n",
       "      <td>1</td>\n",
       "      <td>1</td>\n",
       "      <td>0</td>\n",
       "      <td>1</td>\n",
       "      <td>1</td>\n",
       "      <td>...</td>\n",
       "      <td>1</td>\n",
       "      <td>1</td>\n",
       "      <td>0</td>\n",
       "      <td>0</td>\n",
       "      <td>0</td>\n",
       "      <td>1</td>\n",
       "      <td>1</td>\n",
       "      <td>1</td>\n",
       "      <td>0</td>\n",
       "      <td>NaN</td>\n",
       "    </tr>\n",
       "    <tr>\n",
       "      <th>651443</th>\n",
       "      <td>a6de25bcd224e01320886eff93fc9779a353dc3d917021...</td>\n",
       "      <td>1</td>\n",
       "      <td>1</td>\n",
       "      <td>0</td>\n",
       "      <td>1</td>\n",
       "      <td>0</td>\n",
       "      <td>1</td>\n",
       "      <td>1</td>\n",
       "      <td>1</td>\n",
       "      <td>1</td>\n",
       "      <td>...</td>\n",
       "      <td>0</td>\n",
       "      <td>1</td>\n",
       "      <td>1</td>\n",
       "      <td>0</td>\n",
       "      <td>0</td>\n",
       "      <td>1</td>\n",
       "      <td>1</td>\n",
       "      <td>1</td>\n",
       "      <td>0</td>\n",
       "      <td>NaN</td>\n",
       "    </tr>\n",
       "    <tr>\n",
       "      <th>651444</th>\n",
       "      <td>a6de7c26d881f5b8e39169dcee843abb5c5cfd710a8f44...</td>\n",
       "      <td>0</td>\n",
       "      <td>1</td>\n",
       "      <td>1</td>\n",
       "      <td>1</td>\n",
       "      <td>0</td>\n",
       "      <td>1</td>\n",
       "      <td>1</td>\n",
       "      <td>0</td>\n",
       "      <td>1</td>\n",
       "      <td>...</td>\n",
       "      <td>1</td>\n",
       "      <td>1</td>\n",
       "      <td>1</td>\n",
       "      <td>1</td>\n",
       "      <td>1</td>\n",
       "      <td>1</td>\n",
       "      <td>1</td>\n",
       "      <td>1</td>\n",
       "      <td>0</td>\n",
       "      <td>NaN</td>\n",
       "    </tr>\n",
       "    <tr>\n",
       "      <th>651445</th>\n",
       "      <td>a6de987449619b0318ff2b3cff78765b84b0c90c36d8f1...</td>\n",
       "      <td>1</td>\n",
       "      <td>1</td>\n",
       "      <td>1</td>\n",
       "      <td>1</td>\n",
       "      <td>1</td>\n",
       "      <td>1</td>\n",
       "      <td>1</td>\n",
       "      <td>1</td>\n",
       "      <td>1</td>\n",
       "      <td>...</td>\n",
       "      <td>1</td>\n",
       "      <td>1</td>\n",
       "      <td>1</td>\n",
       "      <td>1</td>\n",
       "      <td>0</td>\n",
       "      <td>1</td>\n",
       "      <td>0</td>\n",
       "      <td>1</td>\n",
       "      <td>0</td>\n",
       "      <td>NaN</td>\n",
       "    </tr>\n",
       "  </tbody>\n",
       "</table>\n",
       "<p>5 rows × 78 columns</p>\n",
       "</div>"
      ],
      "text/plain": [
       "                                                      key  feature1  feature2  \\\n",
       "651441  a6de195bf6901ed5216b83f8c411c959feabcdf586242a...         1         1   \n",
       "651442  a6de1c83c47983f8d9c6f02a6ed6677f025e9524cd5839...         1         1   \n",
       "651443  a6de25bcd224e01320886eff93fc9779a353dc3d917021...         1         1   \n",
       "651444  a6de7c26d881f5b8e39169dcee843abb5c5cfd710a8f44...         0         1   \n",
       "651445  a6de987449619b0318ff2b3cff78765b84b0c90c36d8f1...         1         1   \n",
       "\n",
       "        feature3  feature4  feature5  feature6  feature7  feature8  feature9  \\\n",
       "651441         0         1         0         1         1         1         1   \n",
       "651442         1         1         1         1         0         1         1   \n",
       "651443         0         1         0         1         1         1         1   \n",
       "651444         1         1         0         1         1         0         1   \n",
       "651445         1         1         1         1         1         1         1   \n",
       "\n",
       "        ...  feature68  feature69  feature70  feature71  feature72  feature73  \\\n",
       "651441  ...          1          1          1          0          0          1   \n",
       "651442  ...          1          1          0          0          0          1   \n",
       "651443  ...          0          1          1          0          0          1   \n",
       "651444  ...          1          1          1          1          1          1   \n",
       "651445  ...          1          1          1          1          0          1   \n",
       "\n",
       "        feature74  feature75  feature76  label  \n",
       "651441          1          1          0    NaN  \n",
       "651442          1          1          0    NaN  \n",
       "651443          1          1          0    NaN  \n",
       "651444          1          1          0    NaN  \n",
       "651445          0          1          0    NaN  \n",
       "\n",
       "[5 rows x 78 columns]"
      ]
     },
     "execution_count": 11,
     "metadata": {},
     "output_type": "execute_result"
    }
   ],
   "source": [
    "print(unseen_data.shape)\n",
    "unseen_data.head()"
   ]
  },
  {
   "cell_type": "markdown",
   "id": "infinite-lodging",
   "metadata": {},
   "source": [
    "**visualization and important features**\n",
    "\n",
    "correlation of the of the features and then remove the highly correlated data\n",
    "\n",
    "**output of this function**\n",
    "    \n",
    "    important features names\n",
    "    important features dataset"
   ]
  },
  {
   "cell_type": "code",
   "execution_count": 20,
   "id": "descending-packing",
   "metadata": {},
   "outputs": [],
   "source": [
    "def visual_and_imp_features(dataset):\n",
    "    corelation = str(input('are you doing this for first time on the dataset (yes,no) : '))\n",
    "    \n",
    "# this is because we will use this further and also on the other datasets too    \n",
    "    if corelation == 'yes':\n",
    "        \n",
    "# plotting the heatmap for the dataset\n",
    "        if corelation == 'yes':\n",
    "            plt.figure(figsize = (20,9))\n",
    "            sns.heatmap(dataset.corr())\n",
    "            plt.show()\n",
    "        \n",
    "        max_cor_limit = float(input('in what range you want of correlation you want your data : '))\n",
    "        features_labels_corr = features_labels.corr()\n",
    "        nan_count = features_labels_corr[features_labels_corr < max_cor_limit].isna().sum()\n",
    "        nan_count = pd.DataFrame(nan_count)\n",
    "        nan_count.index = features_labels_corr.columns\n",
    "        nan_count.columns = ['features_nan_sum']\n",
    "        nan_count.sort_values(by=['features_nan_sum'],inplace=True)\n",
    "        \n",
    "        print('we can relate with the number of the nan value for the condition . For our condition it should have less Nan values because in correlation matrix  there are less features which have correlatio then out condition.')\n",
    "        nan_sum_visual = str(input('do you want to visual of the number on nan for checking the how many nan values present the dataset (yes,no) : '))\n",
    "        \n",
    "        if nan_sum_visual == 'yes':\n",
    "            plt.figure(figsize = (20,8))\n",
    "            #plt.plot([-2,80],[1,1],'g',[-2,80],[15,15],'y',[-2,80],[24,24],'r')\n",
    "            plt.bar(nan_count.index,nan_count['features_nan_sum'])\n",
    "            plt.xticks(rotation=90)\n",
    "            plt.show()\n",
    "        \n",
    "        no_nan_count = int(input('time to reduce the number of features. select the limit upto whhich nan count you want : '))\n",
    "        f_s_using_corr = nan_count[nan_count < no_nan_count]\n",
    "        f_s_using_corr.dropna(inplace=True)\n",
    "        imp_features = f_s_using_corr.index\n",
    "        imp_feature_df = features_labels[imp_features]\n",
    "        \n",
    "        return imp_feature_df,imp_features\n",
    "    \n",
    "    elif corelation == 'no':\n",
    "        \n",
    "        remove_y = str(input('do you want the correlation only for the x dataset (yes,no) : '))\n",
    "        if remove_y == 'yes':\n",
    "            print(dataset.columns,'/n check the y columns name')\n",
    "            y_column_name = str(input('entre the y column name : '))\n",
    "            x_dataset = dataset.drop([y_column_name],axis = 'columns')\n",
    "            plt.figure(figsize = (20,7))\n",
    "            sns.heatmap(x_dataset.corr())\n",
    "            plt.show()            \n",
    "        not_imp_features = input('more feature you want to remove (write like a,b,c,etc) : ').strip().split(',')\n",
    "        \n",
    "        if remove_y == 'yes':\n",
    "            x_dataset1 = x_dataset.drop(not_imp_features,axis = 'columns')\n",
    "            print(x_dataset1.columns)\n",
    "            plt.figure(figsize = (20,7))\n",
    "            sns.heatmap(x_dataset1.corr())\n",
    "            plt.show()\n",
    "        not_imp_features1 = input('more feature you want to remove (write like a,b,c,etc) : ').strip().split(',')\n",
    "            \n",
    "        satisfied = str(input('are you satisfied with the features you removed (yes,no) : '))\n",
    "        if satisfied == 'yes':\n",
    "            imp_features_names = x_dataset1.columns\n",
    "            imp_features_dataset = x_dataset1\n",
    "            return imp_features_dataset,imp_features_names\n",
    "            \n",
    "        elif satisfied == 'no':\n",
    "            x_dataset2 = x_dataset1.drop(not_imp_features1,axis = 'columns')\n",
    "            print(x_dataset2.columns)\n",
    "            if satisfied == 'no':\n",
    "                plt.figure(figsize = (20,7))\n",
    "                sns.heatmap(x_dataset2.corr())\n",
    "            \n",
    "            not_imp_features2 = input('more feature you want to remove (write like a,b,c,etc) : ').strip().split(',')\n",
    "            imp_features_names = x_dataset2.columns\n",
    "            imp_features_dataset = x_dataset2\n",
    "            return imp_features_dataset,imp_features_names\n",
    "                \n",
    "        \n",
    "        \n",
    "        "
   ]
  },
  {
   "cell_type": "code",
   "execution_count": 14,
   "id": "interesting-decade",
   "metadata": {},
   "outputs": [
    {
     "name": "stdout",
     "output_type": "stream",
     "text": [
      "are you doing this for first time on the dataset (yes,no) : yes\n"
     ]
    },
    {
     "data": {
      "image/png": "[encoded data removed]",
      "text/plain": [
       "<Figure size 1440x648 with 2 Axes>"
      ]
     },
     "metadata": {
      "needs_background": "light"
     },
     "output_type": "display_data"
    },
    {
     "name": "stdout",
     "output_type": "stream",
     "text": [
      "in what range you want of correlation you want your data : 0.7\n",
      "we can relate with the number of the nan value for the condition . For our condition it should have less Nan values because in correlation matrix  there are less features which have correlatio then out condition.\n",
      "do you want to visual of the number on nan for checking the how many nan values present the dataset (yes,no) : yes\n"
     ]
    },
    {
     "data": {
      "image/png": "[encoded data removed]",
      "text/plain": [
       "<Figure size 1440x576 with 1 Axes>"
      ]
     },
     "metadata": {
      "needs_background": "light"
     },
     "output_type": "display_data"
    },
    {
     "name": "stdout",
     "output_type": "stream",
     "text": [
      "time to reduce the number of features. select the limit upto whhich nan count you want : 21\n"
     ]
    }
   ],
   "source": [
    "imp_feature_df,imp_features = visual_and_imp_features(features_labels)"
   ]
  },
  {
   "cell_type": "code",
   "execution_count": 15,
   "id": "equal-current",
   "metadata": {},
   "outputs": [
    {
     "data": {
      "text/html": [
       "<div>\n",
       "<style scoped>\n",
       "    .dataframe tbody tr th:only-of-type {\n",
       "        vertical-align: middle;\n",
       "    }\n",
       "\n",
       "    .dataframe tbody tr th {\n",
       "        vertical-align: top;\n",
       "    }\n",
       "\n",
       "    .dataframe thead th {\n",
       "        text-align: right;\n",
       "    }\n",
       "</style>\n",
       "<table border=\"1\" class=\"dataframe\">\n",
       "  <thead>\n",
       "    <tr style=\"text-align: right;\">\n",
       "      <th></th>\n",
       "      <th>feature39</th>\n",
       "      <th>feature35</th>\n",
       "      <th>feature37</th>\n",
       "      <th>feature76</th>\n",
       "      <th>feature40</th>\n",
       "      <th>feature44</th>\n",
       "      <th>feature45</th>\n",
       "      <th>feature47</th>\n",
       "      <th>feature52</th>\n",
       "      <th>feature53</th>\n",
       "      <th>...</th>\n",
       "      <th>feature4</th>\n",
       "      <th>feature62</th>\n",
       "      <th>feature50</th>\n",
       "      <th>feature27</th>\n",
       "      <th>feature12</th>\n",
       "      <th>feature49</th>\n",
       "      <th>feature34</th>\n",
       "      <th>feature10</th>\n",
       "      <th>feature26</th>\n",
       "      <th>feature48</th>\n",
       "    </tr>\n",
       "  </thead>\n",
       "  <tbody>\n",
       "    <tr>\n",
       "      <th>0</th>\n",
       "      <td>0</td>\n",
       "      <td>0</td>\n",
       "      <td>0</td>\n",
       "      <td>0</td>\n",
       "      <td>1</td>\n",
       "      <td>0</td>\n",
       "      <td>1</td>\n",
       "      <td>1</td>\n",
       "      <td>1</td>\n",
       "      <td>0</td>\n",
       "      <td>...</td>\n",
       "      <td>1</td>\n",
       "      <td>1</td>\n",
       "      <td>1</td>\n",
       "      <td>1</td>\n",
       "      <td>1</td>\n",
       "      <td>1</td>\n",
       "      <td>1</td>\n",
       "      <td>1</td>\n",
       "      <td>1</td>\n",
       "      <td>1</td>\n",
       "    </tr>\n",
       "    <tr>\n",
       "      <th>1</th>\n",
       "      <td>0</td>\n",
       "      <td>0</td>\n",
       "      <td>1</td>\n",
       "      <td>0</td>\n",
       "      <td>0</td>\n",
       "      <td>0</td>\n",
       "      <td>1</td>\n",
       "      <td>0</td>\n",
       "      <td>0</td>\n",
       "      <td>0</td>\n",
       "      <td>...</td>\n",
       "      <td>1</td>\n",
       "      <td>1</td>\n",
       "      <td>1</td>\n",
       "      <td>1</td>\n",
       "      <td>1</td>\n",
       "      <td>1</td>\n",
       "      <td>1</td>\n",
       "      <td>1</td>\n",
       "      <td>1</td>\n",
       "      <td>1</td>\n",
       "    </tr>\n",
       "    <tr>\n",
       "      <th>2</th>\n",
       "      <td>1</td>\n",
       "      <td>0</td>\n",
       "      <td>0</td>\n",
       "      <td>0</td>\n",
       "      <td>1</td>\n",
       "      <td>0</td>\n",
       "      <td>1</td>\n",
       "      <td>0</td>\n",
       "      <td>1</td>\n",
       "      <td>1</td>\n",
       "      <td>...</td>\n",
       "      <td>1</td>\n",
       "      <td>1</td>\n",
       "      <td>1</td>\n",
       "      <td>1</td>\n",
       "      <td>1</td>\n",
       "      <td>1</td>\n",
       "      <td>1</td>\n",
       "      <td>1</td>\n",
       "      <td>1</td>\n",
       "      <td>1</td>\n",
       "    </tr>\n",
       "    <tr>\n",
       "      <th>3</th>\n",
       "      <td>1</td>\n",
       "      <td>0</td>\n",
       "      <td>0</td>\n",
       "      <td>0</td>\n",
       "      <td>0</td>\n",
       "      <td>0</td>\n",
       "      <td>1</td>\n",
       "      <td>1</td>\n",
       "      <td>0</td>\n",
       "      <td>0</td>\n",
       "      <td>...</td>\n",
       "      <td>1</td>\n",
       "      <td>1</td>\n",
       "      <td>1</td>\n",
       "      <td>1</td>\n",
       "      <td>1</td>\n",
       "      <td>0</td>\n",
       "      <td>1</td>\n",
       "      <td>0</td>\n",
       "      <td>1</td>\n",
       "      <td>1</td>\n",
       "    </tr>\n",
       "    <tr>\n",
       "      <th>4</th>\n",
       "      <td>0</td>\n",
       "      <td>0</td>\n",
       "      <td>0</td>\n",
       "      <td>0</td>\n",
       "      <td>0</td>\n",
       "      <td>0</td>\n",
       "      <td>0</td>\n",
       "      <td>0</td>\n",
       "      <td>0</td>\n",
       "      <td>0</td>\n",
       "      <td>...</td>\n",
       "      <td>0</td>\n",
       "      <td>0</td>\n",
       "      <td>0</td>\n",
       "      <td>0</td>\n",
       "      <td>0</td>\n",
       "      <td>0</td>\n",
       "      <td>0</td>\n",
       "      <td>0</td>\n",
       "      <td>0</td>\n",
       "      <td>0</td>\n",
       "    </tr>\n",
       "  </tbody>\n",
       "</table>\n",
       "<p>5 rows × 66 columns</p>\n",
       "</div>"
      ],
      "text/plain": [
       "   feature39  feature35  feature37  feature76  feature40  feature44  \\\n",
       "0          0          0          0          0          1          0   \n",
       "1          0          0          1          0          0          0   \n",
       "2          1          0          0          0          1          0   \n",
       "3          1          0          0          0          0          0   \n",
       "4          0          0          0          0          0          0   \n",
       "\n",
       "   feature45  feature47  feature52  feature53  ...  feature4  feature62  \\\n",
       "0          1          1          1          0  ...         1          1   \n",
       "1          1          0          0          0  ...         1          1   \n",
       "2          1          0          1          1  ...         1          1   \n",
       "3          1          1          0          0  ...         1          1   \n",
       "4          0          0          0          0  ...         0          0   \n",
       "\n",
       "   feature50  feature27  feature12  feature49  feature34  feature10  \\\n",
       "0          1          1          1          1          1          1   \n",
       "1          1          1          1          1          1          1   \n",
       "2          1          1          1          1          1          1   \n",
       "3          1          1          1          0          1          0   \n",
       "4          0          0          0          0          0          0   \n",
       "\n",
       "   feature26  feature48  \n",
       "0          1          1  \n",
       "1          1          1  \n",
       "2          1          1  \n",
       "3          1          1  \n",
       "4          0          0  \n",
       "\n",
       "[5 rows x 66 columns]"
      ]
     },
     "execution_count": 15,
     "metadata": {},
     "output_type": "execute_result"
    }
   ],
   "source": [
    "imp_feature_df.head()"
   ]
  },
  {
   "cell_type": "code",
   "execution_count": 16,
   "id": "binary-amateur",
   "metadata": {},
   "outputs": [
    {
     "data": {
      "text/plain": [
       "((66,), (651441, 66))"
      ]
     },
     "execution_count": 16,
     "metadata": {},
     "output_type": "execute_result"
    }
   ],
   "source": [
    "imp_features.shape,imp_feature_df.shape"
   ]
  },
  {
   "cell_type": "code",
   "execution_count": 21,
   "id": "fatal-contract",
   "metadata": {},
   "outputs": [
    {
     "name": "stdout",
     "output_type": "stream",
     "text": [
      "are you doing this for first time on the dataset (yes,no) : no\n",
      "do you want the correlation only for the x dataset (yes,no) : yes\n",
      "Index(['feature39', 'feature35', 'feature37', 'feature76', 'feature40',\n",
      "       'feature44', 'feature45', 'feature47', 'feature52', 'feature53',\n",
      "       'feature54', 'feature55', 'feature56', 'feature61', 'feature63',\n",
      "       'feature64', 'feature65', 'feature66', 'feature69', 'feature70',\n",
      "       'feature71', 'feature72', 'feature73', 'feature74', 'feature32',\n",
      "       'feature28', 'label', 'feature17', 'feature20', 'feature14',\n",
      "       'feature13', 'feature21', 'feature22', 'feature19', 'feature23',\n",
      "       'feature7', 'feature5', 'feature3', 'feature18', 'feature67',\n",
      "       'feature68', 'feature57', 'feature75', 'feature24', 'feature59',\n",
      "       'feature6', 'feature1', 'feature46', 'feature29', 'feature16',\n",
      "       'feature25', 'feature9', 'feature33', 'feature8', 'feature58',\n",
      "       'feature38', 'feature4', 'feature62', 'feature50', 'feature27',\n",
      "       'feature12', 'feature49', 'feature34', 'feature10', 'feature26',\n",
      "       'feature48'],\n",
      "      dtype='object') /n check the y columns name\n",
      "entre the y column name : label\n"
     ]
    },
    {
     "data": {
      "image/png": "[encoded data removed]",
      "text/plain": [
       "<Figure size 1440x504 with 2 Axes>"
      ]
     },
     "metadata": {
      "needs_background": "light"
     },
     "output_type": "display_data"
    },
    {
     "name": "stdout",
     "output_type": "stream",
     "text": [
      "more feature you want to remove (write like a,b,c,etc) : feature38,feature4,feature62,feature50,feature27,feature12,feature49,feature34,feature10,feature26,feature48\n",
      "Index(['feature39', 'feature35', 'feature37', 'feature76', 'feature40',\n",
      "       'feature44', 'feature45', 'feature47', 'feature52', 'feature53',\n",
      "       'feature54', 'feature55', 'feature56', 'feature61', 'feature63',\n",
      "       'feature64', 'feature65', 'feature66', 'feature69', 'feature70',\n",
      "       'feature71', 'feature72', 'feature73', 'feature74', 'feature32',\n",
      "       'feature28', 'feature17', 'feature20', 'feature14', 'feature13',\n",
      "       'feature21', 'feature22', 'feature19', 'feature23', 'feature7',\n",
      "       'feature5', 'feature3', 'feature18', 'feature67', 'feature68',\n",
      "       'feature57', 'feature75', 'feature24', 'feature59', 'feature6',\n",
      "       'feature1', 'feature46', 'feature29', 'feature16', 'feature25',\n",
      "       'feature9', 'feature33', 'feature8', 'feature58'],\n",
      "      dtype='object')\n"
     ]
    },
    {
     "data": {
      "image/png": "[encoded data removed]",
      "text/plain": [
       "<Figure size 1440x504 with 2 Axes>"
      ]
     },
     "metadata": {
      "needs_background": "light"
     },
     "output_type": "display_data"
    },
    {
     "name": "stdout",
     "output_type": "stream",
     "text": [
      "more feature you want to remove (write like a,b,c,etc) : feature8,feature58,feature25,feature46,feature47,feature23\n",
      "are you satisfied with the features you removed (yes,no) : yes\n"
     ]
    }
   ],
   "source": [
    "imp,imp_f = visual_and_imp_features(imp_feature_df)"
   ]
  },
  {
   "cell_type": "code",
   "execution_count": 22,
   "id": "alternate-contamination",
   "metadata": {},
   "outputs": [
    {
     "data": {
      "text/html": [
       "<div>\n",
       "<style scoped>\n",
       "    .dataframe tbody tr th:only-of-type {\n",
       "        vertical-align: middle;\n",
       "    }\n",
       "\n",
       "    .dataframe tbody tr th {\n",
       "        vertical-align: top;\n",
       "    }\n",
       "\n",
       "    .dataframe thead th {\n",
       "        text-align: right;\n",
       "    }\n",
       "</style>\n",
       "<table border=\"1\" class=\"dataframe\">\n",
       "  <thead>\n",
       "    <tr style=\"text-align: right;\">\n",
       "      <th></th>\n",
       "      <th>feature39</th>\n",
       "      <th>feature35</th>\n",
       "      <th>feature37</th>\n",
       "      <th>feature76</th>\n",
       "      <th>feature40</th>\n",
       "      <th>feature44</th>\n",
       "      <th>feature45</th>\n",
       "      <th>feature47</th>\n",
       "      <th>feature52</th>\n",
       "      <th>feature53</th>\n",
       "      <th>...</th>\n",
       "      <th>feature6</th>\n",
       "      <th>feature1</th>\n",
       "      <th>feature46</th>\n",
       "      <th>feature29</th>\n",
       "      <th>feature16</th>\n",
       "      <th>feature25</th>\n",
       "      <th>feature9</th>\n",
       "      <th>feature33</th>\n",
       "      <th>feature8</th>\n",
       "      <th>feature58</th>\n",
       "    </tr>\n",
       "  </thead>\n",
       "  <tbody>\n",
       "    <tr>\n",
       "      <th>0</th>\n",
       "      <td>0</td>\n",
       "      <td>0</td>\n",
       "      <td>0</td>\n",
       "      <td>0</td>\n",
       "      <td>1</td>\n",
       "      <td>0</td>\n",
       "      <td>1</td>\n",
       "      <td>1</td>\n",
       "      <td>1</td>\n",
       "      <td>0</td>\n",
       "      <td>...</td>\n",
       "      <td>1</td>\n",
       "      <td>1</td>\n",
       "      <td>1</td>\n",
       "      <td>1</td>\n",
       "      <td>1</td>\n",
       "      <td>1</td>\n",
       "      <td>1</td>\n",
       "      <td>1</td>\n",
       "      <td>1</td>\n",
       "      <td>1</td>\n",
       "    </tr>\n",
       "    <tr>\n",
       "      <th>1</th>\n",
       "      <td>0</td>\n",
       "      <td>0</td>\n",
       "      <td>1</td>\n",
       "      <td>0</td>\n",
       "      <td>0</td>\n",
       "      <td>0</td>\n",
       "      <td>1</td>\n",
       "      <td>0</td>\n",
       "      <td>0</td>\n",
       "      <td>0</td>\n",
       "      <td>...</td>\n",
       "      <td>0</td>\n",
       "      <td>1</td>\n",
       "      <td>1</td>\n",
       "      <td>1</td>\n",
       "      <td>1</td>\n",
       "      <td>1</td>\n",
       "      <td>1</td>\n",
       "      <td>1</td>\n",
       "      <td>1</td>\n",
       "      <td>1</td>\n",
       "    </tr>\n",
       "    <tr>\n",
       "      <th>2</th>\n",
       "      <td>1</td>\n",
       "      <td>0</td>\n",
       "      <td>0</td>\n",
       "      <td>0</td>\n",
       "      <td>1</td>\n",
       "      <td>0</td>\n",
       "      <td>1</td>\n",
       "      <td>0</td>\n",
       "      <td>1</td>\n",
       "      <td>1</td>\n",
       "      <td>...</td>\n",
       "      <td>0</td>\n",
       "      <td>0</td>\n",
       "      <td>0</td>\n",
       "      <td>0</td>\n",
       "      <td>0</td>\n",
       "      <td>0</td>\n",
       "      <td>1</td>\n",
       "      <td>0</td>\n",
       "      <td>0</td>\n",
       "      <td>0</td>\n",
       "    </tr>\n",
       "    <tr>\n",
       "      <th>3</th>\n",
       "      <td>1</td>\n",
       "      <td>0</td>\n",
       "      <td>0</td>\n",
       "      <td>0</td>\n",
       "      <td>0</td>\n",
       "      <td>0</td>\n",
       "      <td>1</td>\n",
       "      <td>1</td>\n",
       "      <td>0</td>\n",
       "      <td>0</td>\n",
       "      <td>...</td>\n",
       "      <td>1</td>\n",
       "      <td>0</td>\n",
       "      <td>1</td>\n",
       "      <td>1</td>\n",
       "      <td>1</td>\n",
       "      <td>1</td>\n",
       "      <td>1</td>\n",
       "      <td>1</td>\n",
       "      <td>1</td>\n",
       "      <td>1</td>\n",
       "    </tr>\n",
       "    <tr>\n",
       "      <th>4</th>\n",
       "      <td>0</td>\n",
       "      <td>0</td>\n",
       "      <td>0</td>\n",
       "      <td>0</td>\n",
       "      <td>0</td>\n",
       "      <td>0</td>\n",
       "      <td>0</td>\n",
       "      <td>0</td>\n",
       "      <td>0</td>\n",
       "      <td>0</td>\n",
       "      <td>...</td>\n",
       "      <td>0</td>\n",
       "      <td>0</td>\n",
       "      <td>0</td>\n",
       "      <td>0</td>\n",
       "      <td>0</td>\n",
       "      <td>0</td>\n",
       "      <td>0</td>\n",
       "      <td>0</td>\n",
       "      <td>0</td>\n",
       "      <td>0</td>\n",
       "    </tr>\n",
       "  </tbody>\n",
       "</table>\n",
       "<p>5 rows × 54 columns</p>\n",
       "</div>"
      ],
      "text/plain": [
       "   feature39  feature35  feature37  feature76  feature40  feature44  \\\n",
       "0          0          0          0          0          1          0   \n",
       "1          0          0          1          0          0          0   \n",
       "2          1          0          0          0          1          0   \n",
       "3          1          0          0          0          0          0   \n",
       "4          0          0          0          0          0          0   \n",
       "\n",
       "   feature45  feature47  feature52  feature53  ...  feature6  feature1  \\\n",
       "0          1          1          1          0  ...         1         1   \n",
       "1          1          0          0          0  ...         0         1   \n",
       "2          1          0          1          1  ...         0         0   \n",
       "3          1          1          0          0  ...         1         0   \n",
       "4          0          0          0          0  ...         0         0   \n",
       "\n",
       "   feature46  feature29  feature16  feature25  feature9  feature33  feature8  \\\n",
       "0          1          1          1          1         1          1         1   \n",
       "1          1          1          1          1         1          1         1   \n",
       "2          0          0          0          0         1          0         0   \n",
       "3          1          1          1          1         1          1         1   \n",
       "4          0          0          0          0         0          0         0   \n",
       "\n",
       "   feature58  \n",
       "0          1  \n",
       "1          1  \n",
       "2          0  \n",
       "3          1  \n",
       "4          0  \n",
       "\n",
       "[5 rows x 54 columns]"
      ]
     },
     "execution_count": 22,
     "metadata": {},
     "output_type": "execute_result"
    }
   ],
   "source": [
    "imp.head()"
   ]
  },
  {
   "cell_type": "code",
   "execution_count": 23,
   "id": "departmental-oxford",
   "metadata": {},
   "outputs": [
    {
     "data": {
      "text/plain": [
       "Index(['feature39', 'feature35', 'feature37', 'feature76', 'feature40',\n",
       "       'feature44', 'feature45', 'feature47', 'feature52', 'feature53',\n",
       "       'feature54', 'feature55', 'feature56', 'feature61', 'feature63',\n",
       "       'feature64', 'feature65', 'feature66', 'feature69', 'feature70',\n",
       "       'feature71', 'feature72', 'feature73', 'feature74', 'feature32',\n",
       "       'feature28', 'feature17', 'feature20', 'feature14', 'feature13',\n",
       "       'feature21', 'feature22', 'feature19', 'feature23', 'feature7',\n",
       "       'feature5', 'feature3', 'feature18', 'feature67', 'feature68',\n",
       "       'feature57', 'feature75', 'feature24', 'feature59', 'feature6',\n",
       "       'feature1', 'feature46', 'feature29', 'feature16', 'feature25',\n",
       "       'feature9', 'feature33', 'feature8', 'feature58'],\n",
       "      dtype='object')"
      ]
     },
     "execution_count": 23,
     "metadata": {},
     "output_type": "execute_result"
    }
   ],
   "source": [
    "imp_f"
   ]
  },
  {
   "cell_type": "code",
   "execution_count": 26,
   "id": "cultural-necklace",
   "metadata": {},
   "outputs": [
    {
     "data": {
      "text/plain": [
       "((651441, 78), (651441, 66), (651441, 54))"
      ]
     },
     "execution_count": 26,
     "metadata": {},
     "output_type": "execute_result"
    }
   ],
   "source": [
    "features_labels.shape,imp_feature_df.shape,imp.shape"
   ]
  },
  {
   "cell_type": "code",
   "execution_count": 27,
   "id": "ideal-bidder",
   "metadata": {},
   "outputs": [],
   "source": [
    "label_0 = features_labels[features_labels['label'] == 0]"
   ]
  },
  {
   "cell_type": "code",
   "execution_count": 28,
   "id": "australian-construction",
   "metadata": {},
   "outputs": [
    {
     "data": {
      "text/plain": [
       "(62219, 78)"
      ]
     },
     "execution_count": 28,
     "metadata": {},
     "output_type": "execute_result"
    }
   ],
   "source": [
    "label_0.shape"
   ]
  },
  {
   "cell_type": "code",
   "execution_count": 29,
   "id": "seasonal-stadium",
   "metadata": {},
   "outputs": [
    {
     "name": "stdout",
     "output_type": "stream",
     "text": [
      "Index(['feature39', 'feature35', 'feature37', 'feature76', 'feature40',\n",
      "       'feature44', 'feature45', 'feature47', 'feature52', 'feature53',\n",
      "       'feature54', 'feature55', 'feature56', 'feature61', 'feature63',\n",
      "       'feature64', 'feature65', 'feature66', 'feature69', 'feature70',\n",
      "       'feature71', 'feature72', 'feature73', 'feature74', 'feature32',\n",
      "       'feature28', 'label', 'feature17', 'feature20', 'feature14'],\n",
      "      dtype='object')\n"
     ]
    },
    {
     "data": {
      "text/plain": [
       "Index(['key', 'feature1', 'feature2', 'feature3', 'feature4', 'feature5',\n",
       "       'feature6', 'feature7', 'feature8', 'feature9', 'feature10',\n",
       "       'feature11', 'feature12', 'feature13', 'feature14', 'feature15',\n",
       "       'feature16', 'feature17', 'feature18', 'feature19', 'feature20',\n",
       "       'feature21', 'feature22', 'feature23', 'feature24', 'feature25',\n",
       "       'feature26', 'feature27', 'feature28', 'feature29'],\n",
       "      dtype='object')"
      ]
     },
     "execution_count": 29,
     "metadata": {},
     "output_type": "execute_result"
    }
   ],
   "source": [
    "print(imp_feature_df.columns[:30])\n",
    "label_0.columns[:30]"
   ]
  },
  {
   "cell_type": "markdown",
   "id": "chemical-afghanistan",
   "metadata": {},
   "source": [
    "** **\n",
    "**sampling technique**"
   ]
  },
  {
   "cell_type": "code",
   "execution_count": 30,
   "id": "forbidden-springfield",
   "metadata": {},
   "outputs": [],
   "source": [
    "# science out dataset is we have to balance and there are two type under and over\n",
    "# under sampling will remove the data which weight the minority data \n",
    "# over sampling will add the extra data to balance the classes \n",
    "\n",
    "sampled_data = pd.concat([label_0,features_labels,label_0,label_0,label_0,label_0,label_0,label_0])"
   ]
  },
  {
   "cell_type": "code",
   "execution_count": 31,
   "id": "blond-squad",
   "metadata": {},
   "outputs": [
    {
     "name": "stdout",
     "output_type": "stream",
     "text": [
      "(1086974, 78)\n"
     ]
    },
    {
     "data": {
      "text/html": [
       "<div>\n",
       "<style scoped>\n",
       "    .dataframe tbody tr th:only-of-type {\n",
       "        vertical-align: middle;\n",
       "    }\n",
       "\n",
       "    .dataframe tbody tr th {\n",
       "        vertical-align: top;\n",
       "    }\n",
       "\n",
       "    .dataframe thead th {\n",
       "        text-align: right;\n",
       "    }\n",
       "</style>\n",
       "<table border=\"1\" class=\"dataframe\">\n",
       "  <thead>\n",
       "    <tr style=\"text-align: right;\">\n",
       "      <th></th>\n",
       "      <th>key</th>\n",
       "      <th>feature1</th>\n",
       "      <th>feature2</th>\n",
       "      <th>feature3</th>\n",
       "      <th>feature4</th>\n",
       "      <th>feature5</th>\n",
       "      <th>feature6</th>\n",
       "      <th>feature7</th>\n",
       "      <th>feature8</th>\n",
       "      <th>feature9</th>\n",
       "      <th>...</th>\n",
       "      <th>feature68</th>\n",
       "      <th>feature69</th>\n",
       "      <th>feature70</th>\n",
       "      <th>feature71</th>\n",
       "      <th>feature72</th>\n",
       "      <th>feature73</th>\n",
       "      <th>feature74</th>\n",
       "      <th>feature75</th>\n",
       "      <th>feature76</th>\n",
       "      <th>label</th>\n",
       "    </tr>\n",
       "  </thead>\n",
       "  <tbody>\n",
       "    <tr>\n",
       "      <th>5</th>\n",
       "      <td>00004d0edbe109811a27af46547d96ea87532ab43ebaa6...</td>\n",
       "      <td>0</td>\n",
       "      <td>1</td>\n",
       "      <td>0</td>\n",
       "      <td>1</td>\n",
       "      <td>0</td>\n",
       "      <td>1</td>\n",
       "      <td>0</td>\n",
       "      <td>1</td>\n",
       "      <td>0</td>\n",
       "      <td>...</td>\n",
       "      <td>1</td>\n",
       "      <td>1</td>\n",
       "      <td>0</td>\n",
       "      <td>0</td>\n",
       "      <td>0</td>\n",
       "      <td>0</td>\n",
       "      <td>0</td>\n",
       "      <td>1</td>\n",
       "      <td>0</td>\n",
       "      <td>0.0</td>\n",
       "    </tr>\n",
       "    <tr>\n",
       "      <th>19</th>\n",
       "      <td>0000cfcf58c345dbcb0a73e061385a8aa176e48a8263a9...</td>\n",
       "      <td>0</td>\n",
       "      <td>0</td>\n",
       "      <td>0</td>\n",
       "      <td>1</td>\n",
       "      <td>0</td>\n",
       "      <td>0</td>\n",
       "      <td>1</td>\n",
       "      <td>0</td>\n",
       "      <td>0</td>\n",
       "      <td>...</td>\n",
       "      <td>1</td>\n",
       "      <td>0</td>\n",
       "      <td>0</td>\n",
       "      <td>0</td>\n",
       "      <td>1</td>\n",
       "      <td>1</td>\n",
       "      <td>0</td>\n",
       "      <td>1</td>\n",
       "      <td>0</td>\n",
       "      <td>0.0</td>\n",
       "    </tr>\n",
       "    <tr>\n",
       "      <th>28</th>\n",
       "      <td>000122f8308f499c3c5986874191c73146f97d8df5cf1f...</td>\n",
       "      <td>0</td>\n",
       "      <td>1</td>\n",
       "      <td>0</td>\n",
       "      <td>1</td>\n",
       "      <td>0</td>\n",
       "      <td>1</td>\n",
       "      <td>1</td>\n",
       "      <td>0</td>\n",
       "      <td>1</td>\n",
       "      <td>...</td>\n",
       "      <td>0</td>\n",
       "      <td>1</td>\n",
       "      <td>1</td>\n",
       "      <td>0</td>\n",
       "      <td>0</td>\n",
       "      <td>1</td>\n",
       "      <td>1</td>\n",
       "      <td>0</td>\n",
       "      <td>0</td>\n",
       "      <td>0.0</td>\n",
       "    </tr>\n",
       "    <tr>\n",
       "      <th>29</th>\n",
       "      <td>0001244c5718b155dbe60da50eacd9e23199a560d51284...</td>\n",
       "      <td>1</td>\n",
       "      <td>1</td>\n",
       "      <td>0</td>\n",
       "      <td>1</td>\n",
       "      <td>0</td>\n",
       "      <td>1</td>\n",
       "      <td>1</td>\n",
       "      <td>1</td>\n",
       "      <td>1</td>\n",
       "      <td>...</td>\n",
       "      <td>1</td>\n",
       "      <td>1</td>\n",
       "      <td>0</td>\n",
       "      <td>1</td>\n",
       "      <td>0</td>\n",
       "      <td>1</td>\n",
       "      <td>1</td>\n",
       "      <td>1</td>\n",
       "      <td>0</td>\n",
       "      <td>0.0</td>\n",
       "    </tr>\n",
       "    <tr>\n",
       "      <th>36</th>\n",
       "      <td>00016b2a4ba13424b0ea7a1acaff908f5a33f791397ac5...</td>\n",
       "      <td>1</td>\n",
       "      <td>1</td>\n",
       "      <td>1</td>\n",
       "      <td>1</td>\n",
       "      <td>1</td>\n",
       "      <td>1</td>\n",
       "      <td>1</td>\n",
       "      <td>1</td>\n",
       "      <td>1</td>\n",
       "      <td>...</td>\n",
       "      <td>0</td>\n",
       "      <td>1</td>\n",
       "      <td>1</td>\n",
       "      <td>1</td>\n",
       "      <td>0</td>\n",
       "      <td>1</td>\n",
       "      <td>0</td>\n",
       "      <td>1</td>\n",
       "      <td>0</td>\n",
       "      <td>0.0</td>\n",
       "    </tr>\n",
       "  </tbody>\n",
       "</table>\n",
       "<p>5 rows × 78 columns</p>\n",
       "</div>"
      ],
      "text/plain": [
       "                                                  key  feature1  feature2  \\\n",
       "5   00004d0edbe109811a27af46547d96ea87532ab43ebaa6...         0         1   \n",
       "19  0000cfcf58c345dbcb0a73e061385a8aa176e48a8263a9...         0         0   \n",
       "28  000122f8308f499c3c5986874191c73146f97d8df5cf1f...         0         1   \n",
       "29  0001244c5718b155dbe60da50eacd9e23199a560d51284...         1         1   \n",
       "36  00016b2a4ba13424b0ea7a1acaff908f5a33f791397ac5...         1         1   \n",
       "\n",
       "    feature3  feature4  feature5  feature6  feature7  feature8  feature9  ...  \\\n",
       "5          0         1         0         1         0         1         0  ...   \n",
       "19         0         1         0         0         1         0         0  ...   \n",
       "28         0         1         0         1         1         0         1  ...   \n",
       "29         0         1         0         1         1         1         1  ...   \n",
       "36         1         1         1         1         1         1         1  ...   \n",
       "\n",
       "    feature68  feature69  feature70  feature71  feature72  feature73  \\\n",
       "5           1          1          0          0          0          0   \n",
       "19          1          0          0          0          1          1   \n",
       "28          0          1          1          0          0          1   \n",
       "29          1          1          0          1          0          1   \n",
       "36          0          1          1          1          0          1   \n",
       "\n",
       "    feature74  feature75  feature76  label  \n",
       "5           0          1          0    0.0  \n",
       "19          0          1          0    0.0  \n",
       "28          1          0          0    0.0  \n",
       "29          1          1          0    0.0  \n",
       "36          0          1          0    0.0  \n",
       "\n",
       "[5 rows x 78 columns]"
      ]
     },
     "execution_count": 31,
     "metadata": {},
     "output_type": "execute_result"
    }
   ],
   "source": [
    "print(sampled_data.shape)\n",
    "sampled_data.head()"
   ]
  },
  {
   "cell_type": "code",
   "execution_count": 32,
   "id": "identified-timeline",
   "metadata": {},
   "outputs": [],
   "source": [
    "sampled_data = sampled_data.sample(frac=1)"
   ]
  },
  {
   "cell_type": "code",
   "execution_count": 33,
   "id": "collective-arkansas",
   "metadata": {},
   "outputs": [
    {
     "data": {
      "text/plain": [
       "1.0    589222\n",
       "0.0    497752\n",
       "Name: label, dtype: int64"
      ]
     },
     "execution_count": 33,
     "metadata": {},
     "output_type": "execute_result"
    }
   ],
   "source": [
    "sampled_data.label.value_counts()"
   ]
  },
  {
   "cell_type": "code",
   "execution_count": 34,
   "id": "proprietary-standing",
   "metadata": {},
   "outputs": [
    {
     "data": {
      "text/plain": [
       "Index(['feature39', 'feature35', 'feature37', 'feature76', 'feature40',\n",
       "       'feature44', 'feature45', 'feature47', 'feature52', 'feature53',\n",
       "       'feature54', 'feature55', 'feature56', 'feature61', 'feature63',\n",
       "       'feature64', 'feature65', 'feature66', 'feature69', 'feature70',\n",
       "       'feature71', 'feature72', 'feature73', 'feature74', 'feature32',\n",
       "       'feature28', 'feature17', 'feature20', 'feature14', 'feature13',\n",
       "       'feature21', 'feature22', 'feature19', 'feature23', 'feature7',\n",
       "       'feature5', 'feature3', 'feature18', 'feature67', 'feature68',\n",
       "       'feature57', 'feature75', 'feature24', 'feature59', 'feature6',\n",
       "       'feature1', 'feature46', 'feature29', 'feature16', 'feature25',\n",
       "       'feature9', 'feature33', 'feature8', 'feature58'],\n",
       "      dtype='object')"
      ]
     },
     "execution_count": 34,
     "metadata": {},
     "output_type": "execute_result"
    }
   ],
   "source": [
    "imp_f"
   ]
  },
  {
   "cell_type": "markdown",
   "id": "electric-associate",
   "metadata": {},
   "source": [
    "** **\n",
    "**saving the created data for further use**\n",
    "\n",
    "throung this we don't have run each step again\n",
    "\n",
    "**output**\n",
    "    \n",
    "    ''dataset saved''"
   ]
  },
  {
   "cell_type": "code",
   "execution_count": 35,
   "id": "dominican-attachment",
   "metadata": {},
   "outputs": [],
   "source": [
    "def saving_dataset(cleaned_dataset):\n",
    "    clean_data = cleaned_dataset\n",
    "    name = str(input('name for the csv file you want to save and also  at the end put .csv e.g. feature_clean.csv : '))\n",
    "    return clean_data.to_csv(name,index=False,header=True)"
   ]
  },
  {
   "cell_type": "code",
   "execution_count": 36,
   "id": "acoustic-verification",
   "metadata": {},
   "outputs": [
    {
     "name": "stdout",
     "output_type": "stream",
     "text": [
      "name for the csv file you want to save and also  at the end put .csv e.g. feature_clean.csv : feature_labels.csv\n"
     ]
    }
   ],
   "source": [
    "saving_dataset(sampled_data)\n"
   ]
  },
  {
   "cell_type": "code",
   "execution_count": 37,
   "id": "friendly-merchandise",
   "metadata": {},
   "outputs": [],
   "source": [
    "sampled_data = pd.read_csv('feature_labels.csv')\n",
    "sampled_data = sampled_data.sample(frac=1)"
   ]
  },
  {
   "cell_type": "code",
   "execution_count": 38,
   "id": "plain-resolution",
   "metadata": {},
   "outputs": [
    {
     "data": {
      "text/plain": [
       "Index(['key', 'feature1', 'feature2', 'feature3', 'feature4', 'feature5',\n",
       "       'feature6', 'feature7', 'feature8', 'feature9', 'feature10',\n",
       "       'feature11', 'feature12', 'feature13', 'feature14', 'feature15',\n",
       "       'feature16', 'feature17', 'feature18', 'feature19', 'feature20',\n",
       "       'feature21', 'feature22', 'feature23', 'feature24', 'feature25',\n",
       "       'feature26', 'feature27', 'feature28', 'feature29', 'feature30',\n",
       "       'feature31', 'feature32', 'feature33', 'feature34', 'feature35',\n",
       "       'feature36', 'feature37', 'feature38', 'feature39', 'feature40',\n",
       "       'feature41', 'feature42', 'feature43', 'feature44', 'feature45',\n",
       "       'feature46', 'feature47', 'feature48', 'feature49', 'feature50',\n",
       "       'feature51', 'feature52', 'feature53', 'feature54', 'feature55',\n",
       "       'feature56', 'feature57', 'feature58', 'feature59', 'feature60',\n",
       "       'feature61', 'feature62', 'feature63', 'feature64', 'feature65',\n",
       "       'feature66', 'feature67', 'feature68', 'feature69', 'feature70',\n",
       "       'feature71', 'feature72', 'feature73', 'feature74', 'feature75',\n",
       "       'feature76', 'label'],\n",
       "      dtype='object')"
      ]
     },
     "execution_count": 38,
     "metadata": {},
     "output_type": "execute_result"
    }
   ],
   "source": [
    "sampled_data.columns"
   ]
  },
  {
   "cell_type": "code",
   "execution_count": 45,
   "id": "african-angle",
   "metadata": {},
   "outputs": [],
   "source": [
    "x = sampled_data[['feature39', 'feature35', 'feature37', 'feature76', 'feature40',\n",
    "       'feature44', 'feature45', 'feature47', 'feature52', 'feature53',\n",
    "       'feature54', 'feature55', 'feature56', 'feature61', 'feature63',\n",
    "       'feature64', 'feature65', 'feature66', 'feature69', 'feature70',\n",
    "       'feature71', 'feature72', 'feature73', 'feature74', 'feature32',\n",
    "       'feature28', 'feature17', 'feature20', 'feature14', 'feature13',\n",
    "       'feature21', 'feature22', 'feature19', 'feature23', 'feature7',\n",
    "       'feature5', 'feature3', 'feature18', 'feature67', 'feature68',\n",
    "       'feature57', 'feature75', 'feature24', 'feature59', 'feature6',\n",
    "       'feature1', 'feature46', 'feature29', 'feature16', 'feature25',\n",
    "       'feature9', 'feature33', 'feature8', 'feature58', 'feature12',\n",
    "       'feature34', 'feature10', 'feature49', 'feature26', 'feature48']]\n",
    "\n",
    "y = sampled_data['label']"
   ]
  },
  {
   "cell_type": "code",
   "execution_count": 46,
   "id": "senior-latino",
   "metadata": {},
   "outputs": [
    {
     "data": {
      "text/plain": [
       "((1086974, 60), (1086974,))"
      ]
     },
     "execution_count": 46,
     "metadata": {},
     "output_type": "execute_result"
    }
   ],
   "source": [
    "x.shape,y.shape"
   ]
  },
  {
   "cell_type": "code",
   "execution_count": 47,
   "id": "bulgarian-december",
   "metadata": {},
   "outputs": [
    {
     "data": {
      "text/plain": [
       "1.0    589222\n",
       "0.0    497752\n",
       "Name: label, dtype: int64"
      ]
     },
     "execution_count": 47,
     "metadata": {},
     "output_type": "execute_result"
    }
   ],
   "source": [
    "y.value_counts()"
   ]
  },
  {
   "cell_type": "code",
   "execution_count": 48,
   "id": "single-territory",
   "metadata": {},
   "outputs": [],
   "source": [
    "X = features_labels[['feature39', 'feature35', 'feature37', 'feature76', 'feature40',\n",
    "       'feature44', 'feature45', 'feature47', 'feature52', 'feature53',\n",
    "       'feature54', 'feature55', 'feature56', 'feature61', 'feature63',\n",
    "       'feature64', 'feature65', 'feature66', 'feature69', 'feature70',\n",
    "       'feature71', 'feature72', 'feature73', 'feature74', 'feature32',\n",
    "       'feature28', 'feature17', 'feature20', 'feature14', 'feature13',\n",
    "       'feature21', 'feature22', 'feature19', 'feature23', 'feature7',\n",
    "       'feature5', 'feature3', 'feature18', 'feature67', 'feature68',\n",
    "       'feature57', 'feature75', 'feature24', 'feature59', 'feature6',\n",
    "       'feature1', 'feature46', 'feature29', 'feature16', 'feature25',\n",
    "       'feature9', 'feature33', 'feature8', 'feature58', 'feature12',\n",
    "       'feature34', 'feature10', 'feature49', 'feature26', 'feature48']]\n",
    "\n",
    "Y = features_labels['label']"
   ]
  },
  {
   "cell_type": "code",
   "execution_count": 49,
   "id": "nonprofit-invitation",
   "metadata": {},
   "outputs": [
    {
     "data": {
      "text/plain": [
       "((651441, 60), (651441,))"
      ]
     },
     "execution_count": 49,
     "metadata": {},
     "output_type": "execute_result"
    }
   ],
   "source": [
    "X.shape,Y.shape"
   ]
  },
  {
   "cell_type": "code",
   "execution_count": 50,
   "id": "tender-source",
   "metadata": {},
   "outputs": [
    {
     "data": {
      "text/plain": [
       "1.0    589222\n",
       "0.0     62219\n",
       "Name: label, dtype: int64"
      ]
     },
     "execution_count": 50,
     "metadata": {},
     "output_type": "execute_result"
    }
   ],
   "source": [
    "Y.value_counts()"
   ]
  },
  {
   "cell_type": "markdown",
   "id": "higher-egyptian",
   "metadata": {},
   "source": [
    "** **\n",
    "**train test split**\n",
    "\n",
    "there is option if you want the some features you forgot before you can remove here\n",
    "    there is **imp_fea\n",
    "\n",
    "**output function**\n",
    "\n",
    "    \n",
    "    x_train,\n",
    "    x_test,\n",
    "    y_train,\n",
    "    y_test"
   ]
  },
  {
   "cell_type": "code",
   "execution_count": 51,
   "id": "subjective-sampling",
   "metadata": {},
   "outputs": [],
   "source": [
    "def modified_train_test_split(x_dataset,y_dataset,imp_feature=None):\n",
    "    \n",
    "    any_imp_f = str(input('do you have any important feature (yes,no): '))\n",
    "    \n",
    "    if any_imp_f == 'no':\n",
    "        train_size_ = float(input('training dataset size : '))\n",
    "        random_state_ = int(input('random state : '))\n",
    "        x_train, x_test, y_train, y_test = train_test_split(x_dataset,y_dataset,train_size=train_size_,\n",
    "                                                            random_state=random_state_)\n",
    "        \n",
    "    elif any_imp_f == 'yes':\n",
    "        column = [str(input('the features names :'  'feature1','feature2','...' ' : '))]\n",
    "        x_dataset = x_dataset[imp_features[columns]]\n",
    "        y_dataset = y_dataset\n",
    "            \n",
    "        train_size_ = float(input('training dataset size : '))\n",
    "        random_state_ = int(input('random state : '))\n",
    "            \n",
    "        x_train, x_test, y_train, y_test = train_test_split(x_dataset,y_dataset,train_size=train_size_,\n",
    "                                                            random_state=random_state_)\n",
    "    \n",
    "    return x_train,x_test,y_train,y_test\n",
    "\n"
   ]
  },
  {
   "cell_type": "code",
   "execution_count": 52,
   "id": "framed-adventure",
   "metadata": {},
   "outputs": [
    {
     "name": "stdout",
     "output_type": "stream",
     "text": [
      "do you have any important feature (yes,no): no\n",
      "training dataset size : 0.8\n",
      "random state : 1\n"
     ]
    }
   ],
   "source": [
    "x_train,x_test,y_train,y_test = modified_train_test_split(x,y)"
   ]
  },
  {
   "cell_type": "code",
   "execution_count": 53,
   "id": "technical-perfume",
   "metadata": {},
   "outputs": [
    {
     "data": {
      "text/plain": [
       "(1.0    471315\n",
       " 0.0    398264\n",
       " Name: label, dtype: int64,\n",
       " 1.0    117907\n",
       " 0.0     99488\n",
       " Name: label, dtype: int64)"
      ]
     },
     "execution_count": 53,
     "metadata": {},
     "output_type": "execute_result"
    }
   ],
   "source": [
    "y_train.value_counts(),y_test.value_counts()"
   ]
  },
  {
   "cell_type": "code",
   "execution_count": 54,
   "id": "powered-rebecca",
   "metadata": {},
   "outputs": [
    {
     "data": {
      "text/plain": [
       "((869579, 60), (217395, 60), (869579,), (217395,))"
      ]
     },
     "execution_count": 54,
     "metadata": {},
     "output_type": "execute_result"
    }
   ],
   "source": [
    "x_train.shape,x_test.shape,y_train.shape,y_test.shape"
   ]
  },
  {
   "cell_type": "code",
   "execution_count": 55,
   "id": "vietnamese-haven",
   "metadata": {},
   "outputs": [
    {
     "name": "stdout",
     "output_type": "stream",
     "text": [
      "do you have any important feature (yes,no): no\n",
      "training dataset size : 0.8\n",
      "random state : 1\n"
     ]
    }
   ],
   "source": [
    "Xta,Xts,Yta,Yts = modified_train_test_split(X,Y)"
   ]
  },
  {
   "cell_type": "code",
   "execution_count": 56,
   "id": "registered-groove",
   "metadata": {},
   "outputs": [
    {
     "data": {
      "text/plain": [
       "(1.0    471378\n",
       " 0.0     49774\n",
       " Name: label, dtype: int64,\n",
       " 1.0    117844\n",
       " 0.0     12445\n",
       " Name: label, dtype: int64)"
      ]
     },
     "execution_count": 56,
     "metadata": {},
     "output_type": "execute_result"
    }
   ],
   "source": [
    "Yta.value_counts(),Yts.value_counts()"
   ]
  },
  {
   "cell_type": "code",
   "execution_count": 57,
   "id": "premier-option",
   "metadata": {},
   "outputs": [
    {
     "data": {
      "text/plain": [
       "((521152, 60), (130289, 60), (521152,), (130289,))"
      ]
     },
     "execution_count": 57,
     "metadata": {},
     "output_type": "execute_result"
    }
   ],
   "source": [
    "Xta.shape,Xts.shape,Yta.shape,Yts.shape"
   ]
  },
  {
   "cell_type": "markdown",
   "id": "impressive-sender",
   "metadata": {},
   "source": [
    "** **\n",
    "**loading the model**"
   ]
  },
  {
   "cell_type": "code",
   "execution_count": 71,
   "id": "qualified-pollution",
   "metadata": {},
   "outputs": [],
   "source": [
    "lr = LogisticRegression()\n",
    "rf = RandomForestClassifier()\n",
    "xgboost = XGBClassifier()"
   ]
  },
  {
   "cell_type": "markdown",
   "id": "possible-constitution",
   "metadata": {},
   "source": [
    "** **\n",
    "**fucntion for  modeling the dataset**\n",
    "**output function**\n",
    "\n",
    "    model\n",
    "    result (actual, predict, probability)\n",
    "\n",
    "other - classification report"
   ]
  },
  {
   "cell_type": "code",
   "execution_count": 75,
   "id": "fuzzy-mixer",
   "metadata": {},
   "outputs": [],
   "source": [
    "def model_fir_report_roc_curve(model,x_train_,x_test_,y_train_,y_test_):\n",
    "    start = time.time()\n",
    "    \n",
    "#model training\n",
    "    model = model.fit(x_train_,y_train_)\n",
    "\n",
    "# model prediction\n",
    "    result = {\n",
    "            'actual' : y_test_,\n",
    "            'predict' : model.predict(x_test_),\n",
    "            'probability_predict' : model.predict_proba(x_test_)\n",
    "        }\n",
    "\n",
    "#model score for train and test\n",
    "    want_model_score = str(input('want to check the train and test score (yes,no) : '))\n",
    "    if want_model_score == 'yes':\n",
    "        print('score test - ',model.score(x_test_,y_test_),'\\nscore train - ',model.score(x_train_,y_train_))\n",
    "\n",
    "# classification report\n",
    "    classifi_report = str(input('do you want the classification report (yes,no): '))\n",
    "    if classifi_report == 'yes':\n",
    "        print(classification_report(result['actual'],result['predict']))\n",
    "    else:\n",
    "        pass\n",
    "    \n",
    "# roc curve\n",
    "    roc_crve_ = str(input('do you want the roc curve (yes,no) : '))\n",
    "    if roc_crve_ == 'yes':\n",
    "        \n",
    "        fpr_lr, tpr_lr, threshold_lr = metrics.roc_curve(result['actual'], result['predict'])\n",
    "        roc_auc = metrics.auc(fpr_lr, tpr_lr)\n",
    "        \n",
    "        skplt.metrics.plot_roc_curve(result['actual'], result['probability_predict'])\n",
    "        model_name = str(input('which model you are working on (logistic regression, random forest, xg boost) : '))\n",
    "        plt.title(model_name)\n",
    "        plt.show()\n",
    "\n",
    "\n",
    "    end = time.time()\n",
    "    print('\\n\\ntime taken by the model - ',end - start)\n",
    "    \n",
    "    return model,result"
   ]
  },
  {
   "cell_type": "markdown",
   "id": "smaller-interim",
   "metadata": {},
   "source": [
    "**with balanced data**"
   ]
  },
  {
   "cell_type": "code",
   "execution_count": 76,
   "id": "behavioral-reply",
   "metadata": {},
   "outputs": [
    {
     "name": "stdout",
     "output_type": "stream",
     "text": [
      "want to check the train and test score (yes,no) : yes\n",
      "score test -  0.5423629798293429 \n",
      "score train -  0.542003659242001\n",
      "do you want the classification report (yes,no): yes\n",
      "              precision    recall  f1-score   support\n",
      "\n",
      "         0.0       0.00      0.00      0.00     99488\n",
      "         1.0       0.54      1.00      0.70    117907\n",
      "\n",
      "    accuracy                           0.54    217395\n",
      "   macro avg       0.27      0.50      0.35    217395\n",
      "weighted avg       0.29      0.54      0.38    217395\n",
      "\n",
      "do you want the roc curve (yes,no) : yes\n",
      "which model you are working on (logistic regression, random forest, xg boost) : logistic regression\n"
     ]
    },
    {
     "data": {
      "image/png": "[encoded data removed]",
      "text/plain": [
       "<Figure size 432x288 with 1 Axes>"
      ]
     },
     "metadata": {
      "needs_background": "light"
     },
     "output_type": "display_data"
    },
    {
     "name": "stdout",
     "output_type": "stream",
     "text": [
      "\n",
      "\n",
      "time taken by the model -  46.91066884994507\n"
     ]
    }
   ],
   "source": [
    "lr_model,lr_result = model_fir_report_roc_curve(lr,x_train,x_test,y_train,y_test)"
   ]
  },
  {
   "cell_type": "code",
   "execution_count": 77,
   "id": "engaged-recommendation",
   "metadata": {},
   "outputs": [
    {
     "name": "stdout",
     "output_type": "stream",
     "text": [
      "want to check the train and test score (yes,no) : yes\n",
      "score test -  0.767349755054164 \n",
      "score train -  0.783860925804326\n",
      "do you want the classification report (yes,no): yes\n",
      "              precision    recall  f1-score   support\n",
      "\n",
      "         0.0       0.80      0.66      0.72     99488\n",
      "         1.0       0.75      0.86      0.80    117907\n",
      "\n",
      "    accuracy                           0.77    217395\n",
      "   macro avg       0.77      0.76      0.76    217395\n",
      "weighted avg       0.77      0.77      0.76    217395\n",
      "\n",
      "do you want the roc curve (yes,no) : yes\n",
      "which model you are working on (logistic regression, random forest, xg boost) : random forest\n"
     ]
    },
    {
     "data": {
      "image/png": "[encoded data removed]",
      "text/plain": [
       "<Figure size 432x288 with 1 Axes>"
      ]
     },
     "metadata": {
      "needs_background": "light"
     },
     "output_type": "display_data"
    },
    {
     "name": "stdout",
     "output_type": "stream",
     "text": [
      "\n",
      "\n",
      "time taken by the model -  744.1983189582825\n"
     ]
    }
   ],
   "source": [
    "rf_model,rf_result = model_fir_report_roc_curve(rf,x_train,x_test,y_train,y_test)"
   ]
  },
  {
   "cell_type": "code",
   "execution_count": 78,
   "id": "nervous-vehicle",
   "metadata": {},
   "outputs": [
    {
     "name": "stdout",
     "output_type": "stream",
     "text": [
      "[11:19:04] WARNING: C:/Users/Administrator/workspace/xgboost-win64_release_1.4.0/src/learner.cc:1095: Starting in XGBoost 1.3.0, the default evaluation metric used with the objective 'binary:logistic' was changed from 'error' to 'logloss'. Explicitly set eval_metric if you'd like to restore the old behavior.\n",
      "want to check the train and test score (yes,no) : yes\n",
      "score test -  0.5709882931990156 \n",
      "score train -  0.582414018737803\n",
      "do you want the classification report (yes,no): yes\n",
      "              precision    recall  f1-score   support\n",
      "\n",
      "         0.0       0.61      0.17      0.26     99488\n",
      "         1.0       0.56      0.91      0.70    117907\n",
      "\n",
      "    accuracy                           0.57    217395\n",
      "   macro avg       0.59      0.54      0.48    217395\n",
      "weighted avg       0.59      0.57      0.50    217395\n",
      "\n",
      "do you want the roc curve (yes,no) : yes\n",
      "which model you are working on (logistic regression, random forest, xg boost) : xgboost\n"
     ]
    },
    {
     "data": {
      "image/png": "[encoded data removed]",
      "text/plain": [
       "<Figure size 432x288 with 1 Axes>"
      ]
     },
     "metadata": {
      "needs_background": "light"
     },
     "output_type": "display_data"
    },
    {
     "name": "stdout",
     "output_type": "stream",
     "text": [
      "\n",
      "\n",
      "time taken by the model -  218.58928847312927\n"
     ]
    }
   ],
   "source": [
    "xg_model,xg_result = model_fir_report_roc_curve(xgboost,x_train,x_test,y_train,y_test)"
   ]
  },
  {
   "cell_type": "markdown",
   "id": "important-inquiry",
   "metadata": {},
   "source": [
    "**without balanced data**"
   ]
  },
  {
   "cell_type": "code",
   "execution_count": 79,
   "id": "nervous-cinema",
   "metadata": {},
   "outputs": [
    {
     "name": "stdout",
     "output_type": "stream",
     "text": [
      "want to check the train and test score (yes,no) : yes\n",
      "score test -  0.9044815755743002 \n",
      "score train -  0.9044923553972737\n",
      "do you want the classification report (yes,no): yes\n",
      "              precision    recall  f1-score   support\n",
      "\n",
      "         0.0       0.00      0.00      0.00     12445\n",
      "         1.0       0.90      1.00      0.95    117844\n",
      "\n",
      "    accuracy                           0.90    130289\n",
      "   macro avg       0.45      0.50      0.47    130289\n",
      "weighted avg       0.82      0.90      0.86    130289\n",
      "\n",
      "do you want the roc curve (yes,no) : yes\n",
      "which model you are working on (logistic regression, random forest, xg boost) : logistic regression\n"
     ]
    },
    {
     "data": {
      "image/png": "[encoded data removed]",
      "text/plain": [
       "<Figure size 432x288 with 1 Axes>"
      ]
     },
     "metadata": {
      "needs_background": "light"
     },
     "output_type": "display_data"
    },
    {
     "name": "stdout",
     "output_type": "stream",
     "text": [
      "\n",
      "\n",
      "time taken by the model -  29.03692650794983\n"
     ]
    }
   ],
   "source": [
    "LR_M,LR_R = model_fir_report_roc_curve(lr,Xta,Xts,Yta,Yts)"
   ]
  },
  {
   "cell_type": "code",
   "execution_count": 80,
   "id": "adverse-basics",
   "metadata": {},
   "outputs": [
    {
     "name": "stdout",
     "output_type": "stream",
     "text": [
      "want to check the train and test score (yes,no) : yes\n",
      "score test -  0.8973819739195174 \n",
      "score train -  0.940583553358713\n",
      "do you want the classification report (yes,no): yes\n",
      "              precision    recall  f1-score   support\n",
      "\n",
      "         0.0       0.10      0.01      0.02     12445\n",
      "         1.0       0.90      0.99      0.95    117844\n",
      "\n",
      "    accuracy                           0.90    130289\n",
      "   macro avg       0.50      0.50      0.48    130289\n",
      "weighted avg       0.83      0.90      0.86    130289\n",
      "\n",
      "do you want the roc curve (yes,no) : yes\n",
      "which model you are working on (logistic regression, random forest, xg boost) : random forest\n"
     ]
    },
    {
     "data": {
      "image/png": "[encoded data removed]",
      "text/plain": [
       "<Figure size 432x288 with 1 Axes>"
      ]
     },
     "metadata": {
      "needs_background": "light"
     },
     "output_type": "display_data"
    },
    {
     "name": "stdout",
     "output_type": "stream",
     "text": [
      "\n",
      "\n",
      "time taken by the model -  356.08456158638\n"
     ]
    }
   ],
   "source": [
    "RF_M,RF_R = model_fir_report_roc_curve(rf,Xta,Xts,Yta,Yts)"
   ]
  },
  {
   "cell_type": "code",
   "execution_count": 81,
   "id": "wound-luxury",
   "metadata": {},
   "outputs": [
    {
     "name": "stdout",
     "output_type": "stream",
     "text": [
      "[11:29:05] WARNING: C:/Users/Administrator/workspace/xgboost-win64_release_1.4.0/src/learner.cc:1095: Starting in XGBoost 1.3.0, the default evaluation metric used with the objective 'binary:logistic' was changed from 'error' to 'logloss'. Explicitly set eval_metric if you'd like to restore the old behavior.\n",
      "want to check the train and test score (yes,no) : yes\n",
      "score test -  0.9044815755743002 \n",
      "score train -  0.9045978908264767\n",
      "do you want the classification report (yes,no): yes\n",
      "              precision    recall  f1-score   support\n",
      "\n",
      "         0.0       0.50      0.00      0.00     12445\n",
      "         1.0       0.90      1.00      0.95    117844\n",
      "\n",
      "    accuracy                           0.90    130289\n",
      "   macro avg       0.70      0.50      0.48    130289\n",
      "weighted avg       0.87      0.90      0.86    130289\n",
      "\n",
      "do you want the roc curve (yes,no) : yes\n",
      "which model you are working on (logistic regression, random forest, xg boost) : xgboost\n"
     ]
    },
    {
     "data": {
      "image/png": "[encoded data removed]",
      "text/plain": [
       "<Figure size 432x288 with 1 Axes>"
      ]
     },
     "metadata": {
      "needs_background": "light"
     },
     "output_type": "display_data"
    },
    {
     "name": "stdout",
     "output_type": "stream",
     "text": [
      "\n",
      "\n",
      "time taken by the model -  143.23493599891663\n"
     ]
    }
   ],
   "source": [
    "XG_M,XG_R = model_fir_report_roc_curve(xgboost,Xta,Xts,Yta,Yts)"
   ]
  },
  {
   "cell_type": "markdown",
   "id": "graduate-scratch",
   "metadata": {},
   "source": [
    "\n",
    "### never seen data (no labels, just features) and uses models above to generate prediction\n",
    "** **"
   ]
  },
  {
   "cell_type": "code",
   "execution_count": 85,
   "id": "dental-sessions",
   "metadata": {},
   "outputs": [],
   "source": [
    "def unseen_data_pred(model,x_test,unseen_data):\n",
    "    cleaned = str(input('have you removed the extra feature or keys : '))\n",
    "    if cleaned == 'yes':\n",
    "        return model.predict(unseen_data)\n",
    "    elif cleaned == 'no':\n",
    "        print(x_test.columns)\n",
    "        unseen_data = unseen_data[x_test.columns]\n",
    "        return model.predict(unseen_data)"
   ]
  },
  {
   "cell_type": "code",
   "execution_count": 86,
   "id": "retired-cotton",
   "metadata": {},
   "outputs": [
    {
     "name": "stdout",
     "output_type": "stream",
     "text": [
      "have you removed the extra feature or keys : no\n",
      "Index(['feature39', 'feature35', 'feature37', 'feature76', 'feature40',\n",
      "       'feature44', 'feature45', 'feature47', 'feature52', 'feature53',\n",
      "       'feature54', 'feature55', 'feature56', 'feature61', 'feature63',\n",
      "       'feature64', 'feature65', 'feature66', 'feature69', 'feature70',\n",
      "       'feature71', 'feature72', 'feature73', 'feature74', 'feature32',\n",
      "       'feature28', 'feature17', 'feature20', 'feature14', 'feature13',\n",
      "       'feature21', 'feature22', 'feature19', 'feature23', 'feature7',\n",
      "       'feature5', 'feature3', 'feature18', 'feature67', 'feature68',\n",
      "       'feature57', 'feature75', 'feature24', 'feature59', 'feature6',\n",
      "       'feature1', 'feature46', 'feature29', 'feature16', 'feature25',\n",
      "       'feature9', 'feature33', 'feature8', 'feature58', 'feature12',\n",
      "       'feature34', 'feature10', 'feature49', 'feature26', 'feature48'],\n",
      "      dtype='object')\n"
     ]
    }
   ],
   "source": [
    "lr_unseen_pred = unseen_data_pred(lr_model,x_test,unseen_data)"
   ]
  },
  {
   "cell_type": "code",
   "execution_count": 87,
   "id": "hydraulic-notebook",
   "metadata": {},
   "outputs": [
    {
     "data": {
      "text/plain": [
       "array([1., 1., 1., ..., 1., 1., 1.])"
      ]
     },
     "execution_count": 87,
     "metadata": {},
     "output_type": "execute_result"
    }
   ],
   "source": [
    "lr_unseen_pred"
   ]
  },
  {
   "cell_type": "code",
   "execution_count": 88,
   "id": "centered-footage",
   "metadata": {},
   "outputs": [
    {
     "name": "stdout",
     "output_type": "stream",
     "text": [
      "have you removed the extra feature or keys : no\n",
      "Index(['feature39', 'feature35', 'feature37', 'feature76', 'feature40',\n",
      "       'feature44', 'feature45', 'feature47', 'feature52', 'feature53',\n",
      "       'feature54', 'feature55', 'feature56', 'feature61', 'feature63',\n",
      "       'feature64', 'feature65', 'feature66', 'feature69', 'feature70',\n",
      "       'feature71', 'feature72', 'feature73', 'feature74', 'feature32',\n",
      "       'feature28', 'feature17', 'feature20', 'feature14', 'feature13',\n",
      "       'feature21', 'feature22', 'feature19', 'feature23', 'feature7',\n",
      "       'feature5', 'feature3', 'feature18', 'feature67', 'feature68',\n",
      "       'feature57', 'feature75', 'feature24', 'feature59', 'feature6',\n",
      "       'feature1', 'feature46', 'feature29', 'feature16', 'feature25',\n",
      "       'feature9', 'feature33', 'feature8', 'feature58', 'feature12',\n",
      "       'feature34', 'feature10', 'feature49', 'feature26', 'feature48'],\n",
      "      dtype='object')\n"
     ]
    }
   ],
   "source": [
    "rf_unseen_pred = unseen_data_pred(rf_model,x_test,unseen_data)"
   ]
  },
  {
   "cell_type": "code",
   "execution_count": 89,
   "id": "heated-speed",
   "metadata": {},
   "outputs": [
    {
     "data": {
      "text/plain": [
       "array([1., 1., 1., ..., 1., 1., 1.])"
      ]
     },
     "execution_count": 89,
     "metadata": {},
     "output_type": "execute_result"
    }
   ],
   "source": [
    "rf_unseen_pred"
   ]
  },
  {
   "cell_type": "code",
   "execution_count": 90,
   "id": "central-purse",
   "metadata": {},
   "outputs": [
    {
     "name": "stdout",
     "output_type": "stream",
     "text": [
      "have you removed the extra feature or keys : no\n",
      "Index(['feature39', 'feature35', 'feature37', 'feature76', 'feature40',\n",
      "       'feature44', 'feature45', 'feature47', 'feature52', 'feature53',\n",
      "       'feature54', 'feature55', 'feature56', 'feature61', 'feature63',\n",
      "       'feature64', 'feature65', 'feature66', 'feature69', 'feature70',\n",
      "       'feature71', 'feature72', 'feature73', 'feature74', 'feature32',\n",
      "       'feature28', 'feature17', 'feature20', 'feature14', 'feature13',\n",
      "       'feature21', 'feature22', 'feature19', 'feature23', 'feature7',\n",
      "       'feature5', 'feature3', 'feature18', 'feature67', 'feature68',\n",
      "       'feature57', 'feature75', 'feature24', 'feature59', 'feature6',\n",
      "       'feature1', 'feature46', 'feature29', 'feature16', 'feature25',\n",
      "       'feature9', 'feature33', 'feature8', 'feature58', 'feature12',\n",
      "       'feature34', 'feature10', 'feature49', 'feature26', 'feature48'],\n",
      "      dtype='object')\n"
     ]
    }
   ],
   "source": [
    "xg_unseen_pred = unseen_data_pred(xg_model,x_test,unseen_data)"
   ]
  },
  {
   "cell_type": "code",
   "execution_count": null,
   "id": "middle-humidity",
   "metadata": {},
   "outputs": [],
   "source": []
  }
 ],
 "metadata": {
  "kernelspec": {
   "display_name": "TensorFlow-GPU",
   "language": "python",
   "name": "tf-gpu"
  },
  "language_info": {
   "codemirror_mode": {
    "name": "ipython",
    "version": 3
   },
   "file_extension": ".py",
   "mimetype": "text/x-python",
   "name": "python",
   "nbconvert_exporter": "python",
   "pygments_lexer": "ipython3",
   "version": "3.7.1"
  }
 },
 "nbformat": 4,
 "nbformat_minor": 5
}
